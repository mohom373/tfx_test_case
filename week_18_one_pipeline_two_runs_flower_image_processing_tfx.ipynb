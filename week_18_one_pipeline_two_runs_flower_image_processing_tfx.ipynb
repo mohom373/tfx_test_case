{
 "cells": [
  {
   "attachments": {},
   "cell_type": "markdown",
   "metadata": {},
   "source": [
    "### SETUP"
   ]
  },
  {
   "cell_type": "code",
   "execution_count": null,
   "metadata": {},
   "outputs": [],
   "source": [
    "!pip install --user tfx tensorflow Pillow tensorflow_datasets matplotlib azure-storage-blob"
   ]
  },
  {
   "attachments": {},
   "cell_type": "markdown",
   "metadata": {},
   "source": [
    "### Imports\n"
   ]
  },
  {
   "cell_type": "code",
   "execution_count": null,
   "metadata": {},
   "outputs": [],
   "source": [
    "import numpy as np\n",
    "import os\n",
    "import PIL\n",
    "import PIL.Image\n",
    "import tensorflow as tf\n",
    "import tensorflow_datasets as tfds\n",
    "import IPython.display as display\n",
    "from azure.storage.blob import BlobServiceClient, AccountSasPermissions, ResourceTypes\n",
    "from datetime import datetime, timedelta\n",
    "import random\n",
    "from io import BytesIO"
   ]
  },
  {
   "attachments": {},
   "cell_type": "markdown",
   "metadata": {},
   "source": [
    "### Downloading images from Azure"
   ]
  },
  {
   "cell_type": "code",
   "execution_count": null,
   "metadata": {},
   "outputs": [],
   "source": [
    "connection_string = \"DefaultEndpointsProtocol=https;AccountName=datacentricthesis;AccountKey=Z2yIApz/GjhHPu28cAclxOnaqChRERQlrmGkfqfDcpCLlBRo/oPBN8n3Mhg6cRVFR5b/iS0ZxZ/D+ASt378Qfw==;EndpointSuffix=core.windows.net\"\n",
    "account_name = \"datacentricthesis\""
   ]
  },
  {
   "cell_type": "code",
   "execution_count": null,
   "metadata": {},
   "outputs": [],
   "source": [
    "def download_directory_from_blob_storage(blob_service_client, container_name, destination_directory, prefix=\"\"):\n",
    "  container_client = blob_service_client.get_container_client(container_name)\n",
    "  blob_list = container_client.list_blobs(name_starts_with=prefix)\n",
    "  \n",
    "  for blob in blob_list:\n",
    "    blob_path = os.path.relpath(blob.name, prefix)\n",
    "    local_path = os.path.join(destination_directory, blob_path)\n",
    "\n",
    "    os.makedirs(os.path.dirname(local_path), exist_ok=True)\n",
    "\n",
    "    blob_client = container_client.get_blob_client(blob.name)\n",
    "    with open(local_path, \"wb\") as file:\n",
    "        file.write(blob_client.download_blob().readall())"
   ]
  },
  {
   "cell_type": "code",
   "execution_count": null,
   "metadata": {},
   "outputs": [],
   "source": [
    "blob_service_client = BlobServiceClient.from_connection_string(connection_string)\n",
    "container_name = \"flowers\"\n",
    "destination_directory = \"./azure_blob_storage_test\"\n",
    "prefix = \"flower_photos/\"\n",
    "\n",
    "if not (os.path.exists(destination_directory)):\n",
    "  print(\"Only create and download if destination doesn't extist so we don't override it \\n\")\n",
    "  \n",
    "  download_directory_from_blob_storage(blob_service_client, container_name, destination_directory, prefix)"
   ]
  },
  {
   "attachments": {},
   "cell_type": "markdown",
   "metadata": {},
   "source": [
    "### Manually splitting dataset into train and test directories"
   ]
  },
  {
   "cell_type": "code",
   "execution_count": null,
   "metadata": {},
   "outputs": [],
   "source": [
    "import os\n",
    "import shutil\n",
    "import random\n",
    "\n",
    "def split_dataset_into_train_and_test(image_directory, output_directory, train_split=0.8):\n",
    "    # List all the category subdirectories in the main directory\n",
    "    categories = [d for d in os.listdir(image_directory) if os.path.isdir(os.path.join(image_directory, d))]\n",
    "\n",
    "    # Create train and test directories in the output directory\n",
    "    train_directory = os.path.join(output_directory, 'train')\n",
    "    test_directory = os.path.join(output_directory, 'test')\n",
    "\n",
    "    os.makedirs(train_directory, exist_ok=True)\n",
    "    os.makedirs(test_directory, exist_ok=True)\n",
    "\n",
    "    # Iterate through each category subdirectory\n",
    "    for category in categories:\n",
    "        category_directory = os.path.join(image_directory, category)\n",
    "\n",
    "        # List all the image files in the category subdirectory\n",
    "        images = os.listdir(category_directory)\n",
    "        images = [img for img in images if img.lower().endswith(('.png', '.jpg', '.jpeg', '.bmp', '.tiff', '.gif'))]\n",
    "\n",
    "        # Shuffle the list of image files\n",
    "        random.shuffle(images)\n",
    "\n",
    "        # Create category subdirectories in train and test directories\n",
    "        train_category_directory = os.path.join(train_directory, category)\n",
    "        test_category_directory = os.path.join(test_directory, category)\n",
    "\n",
    "        os.makedirs(train_category_directory, exist_ok=True)\n",
    "        os.makedirs(test_category_directory, exist_ok=True)\n",
    "\n",
    "        # Split the image files into train and test sets\n",
    "        split_index = int(len(images) * train_split)\n",
    "        train_images = images[:split_index]\n",
    "        test_images = images[split_index:]\n",
    "\n",
    "        # Copy the images to the respective directories\n",
    "        for img in train_images:\n",
    "            shutil.copy2(os.path.join(category_directory, img), os.path.join(train_category_directory, img))\n",
    "\n",
    "        for img in test_images:\n",
    "            shutil.copy2(os.path.join(category_directory, img), os.path.join(test_category_directory, img))\n",
    "\n",
    "        print(f'Successfully split {len(images)} images in category \"{category}\" into {len(train_images)} train and {len(test_images)} test images.')\n",
    "\n",
    "image_directory = 'azure_blob_storage_test'\n",
    "data_root ='flowers'\n",
    "os.makedirs(data_root, exist_ok=True)\n",
    "split_dataset_into_train_and_test(image_directory, data_root)\n"
   ]
  },
  {
   "attachments": {},
   "cell_type": "markdown",
   "metadata": {},
   "source": [
    "### Darken images in train part of dataset\n",
    "\n"
   ]
  },
  {
   "cell_type": "code",
   "execution_count": null,
   "metadata": {},
   "outputs": [],
   "source": [
    "!pip install cleanvison"
   ]
  },
  {
   "attachments": {},
   "cell_type": "markdown",
   "metadata": {},
   "source": [
    "#### Report amount of dark images in set - Try 1"
   ]
  },
  {
   "cell_type": "code",
   "execution_count": null,
   "metadata": {},
   "outputs": [],
   "source": [
    "# Show how many issues with dataset\n",
    "# Finding faults with train images.\n",
    "from cleanvision.imagelab import Imagelab\n",
    "\n",
    "# Specify path to folder containing the image files in your dataset\n",
    "imagelab = Imagelab(data_path=\"flowers/train/\")\n",
    "\n",
    "issue_types = {\"dark\": {}}\n",
    "imagelab.find_issues(issue_types=issue_types)\n",
    "\n",
    "# Produce a report with only the specified issue_types\n",
    "imagelab.report()\n",
    "\n"
   ]
  },
  {
   "cell_type": "code",
   "execution_count": null,
   "metadata": {},
   "outputs": [],
   "source": [
    "# Run the darken image script to darken X% of images and place into a new dir\n",
    "%run 'scripts/darken_image_script.py'"
   ]
  },
  {
   "attachments": {},
   "cell_type": "markdown",
   "metadata": {},
   "source": [
    "#### Report amount of dark images in set - Try 2"
   ]
  },
  {
   "cell_type": "code",
   "execution_count": null,
   "metadata": {},
   "outputs": [],
   "source": [
    "# Show how many issues with dataset\n",
    "# Finding faults with train images.\n",
    "\n",
    "# Specify path to folder containing the image files in your dataset\n",
    "imagelab = Imagelab(data_path=\"darkened_images/\")\n",
    "\n",
    "issue_types = {\"dark\": {}}\n",
    "imagelab.find_issues(issue_types=issue_types)\n",
    "\n",
    "# Produce a report with only the specified issue_types\n",
    "imagelab.report()\n"
   ]
  },
  {
   "attachments": {},
   "cell_type": "markdown",
   "metadata": {},
   "source": [
    "Number of darked images should be around the same amount specified in script, that would be 25% or around 700 images for us"
   ]
  },
  {
   "attachments": {},
   "cell_type": "markdown",
   "metadata": {},
   "source": [
    "### Create a new dir with dark images train/test split"
   ]
  },
  {
   "cell_type": "code",
   "execution_count": null,
   "metadata": {},
   "outputs": [],
   "source": [
    "from scripts import create_train_dataset_from_images as ctd\n",
    "\n",
    "ctd.create_train_dataset_from_images('darkened_images', 'flowers_original_dark_dataset','train')\n",
    "ctd.create_train_dataset_from_images('flowers/test', 'flowers_original_dark_dataset','test')\n",
    "\n",
    "file_count = 0\n",
    "for root, dirs, files in os.walk('flowers_original_dark_dataset/train'):\n",
    "    file_count += len(files)\n",
    "\n",
    "print(f\"The total number of files in flowers_original_dark_dataset/train and its subdirectories is: {file_count}\")"
   ]
  },
  {
   "attachments": {},
   "cell_type": "markdown",
   "metadata": {},
   "source": [
    "### Run the script for removing the dark images from the dataset"
   ]
  },
  {
   "cell_type": "code",
   "execution_count": null,
   "metadata": {},
   "outputs": [],
   "source": [
    "%run 'scripts/remove_dark_images.py'"
   ]
  },
  {
   "cell_type": "code",
   "execution_count": null,
   "metadata": {},
   "outputs": [],
   "source": [
    "from scripts import create_train_dataset_from_images as ctd\n",
    "\n",
    "ctd.create_train_dataset_from_images('darkened_images', 'flowers_improved_dataset','train')\n",
    "ctd.create_train_dataset_from_images('flowers/test', 'flowers_improved_dataset','test')\n",
    "\n",
    "file_count_original_dark_images = 0\n",
    "for root, dirs, files in os.walk('flowers_improved_dataset/train'):\n",
    "    file_count_original_dark_images += len(files)\n",
    "\n",
    "print(f\"The total number of files in flowers_improved_dataset/train and its subdirectories is: {file_count_original_dark_images}\")"
   ]
  },
  {
   "attachments": {},
   "cell_type": "markdown",
   "metadata": {},
   "source": [
    "## Setting up variables"
   ]
  },
  {
   "cell_type": "code",
   "execution_count": null,
   "metadata": {},
   "outputs": [],
   "source": [
    "\n",
    "PIPELINE_NAME = 'flower_pipeline'\n",
    "PIPELINE_ROOT = os.path.join('pipelines', PIPELINE_NAME)\n",
    "ORIGINAL_DARK_TF_RECORD_ROOT = 'flowers_original_dark_dataset-tfrecord'\n",
    "IMPROVED_TF_RECORD_ROOT = 'flowers_improved_dataset-tfrecord'\n",
    "\n",
    "#data_root ='flowers'\n",
    "ORIGINAL_DARK_DATA_ROOT = 'flowers_original_dark_dataset'\n",
    "IMPROVED_DARK_DATA_ROOT = 'flowers_improved_dataset'\n",
    "\n",
    "\n",
    "SERVING_MODEL_DIR = os.path.join('serving_model', PIPELINE_NAME)\n",
    "METADATA_PATH = os.path.join('metadata', PIPELINE_NAME, 'flowers.db')\n",
    "\n",
    "\n",
    "#IMG_HEIGHT = 180\n",
    "#IMG_WIDTH = 180\n",
    "\n",
    "\n",
    "\n"
   ]
  },
  {
   "attachments": {},
   "cell_type": "markdown",
   "metadata": {},
   "source": [
    "### Convert original dark images to tf.record files"
   ]
  },
  {
   "cell_type": "code",
   "execution_count": null,
   "metadata": {},
   "outputs": [],
   "source": [
    "from scripts import convert_img_to_tfrecord_script as citfs\n",
    "\n",
    "\n",
    "train_data_dir = os.path.join(ORIGINAL_DARK_DATA_ROOT, 'train')\n",
    "validation_dir = os.path.join(ORIGINAL_DARK_DATA_ROOT, 'test')\n",
    "\n",
    "os.makedirs(ORIGINAL_DARK_TF_RECORD_ROOT + '/train', exist_ok=True)\n",
    "os.makedirs(ORIGINAL_DARK_TF_RECORD_ROOT + '/test', exist_ok=True)\n",
    "\n",
    "train_tfrecord = ORIGINAL_DARK_TF_RECORD_ROOT + '/train/train_data.tfrecords'\n",
    "test_tfrecord = ORIGINAL_DARK_TF_RECORD_ROOT + '/test/test_data.tfrecords'\n",
    "\n",
    "\n",
    "citfs.open_and_write_TFRercord(train_data_dir, validation_dir, train_tfrecord, test_tfrecord)"
   ]
  },
  {
   "attachments": {},
   "cell_type": "markdown",
   "metadata": {},
   "source": [
    "### Convert improved images to tf.record files"
   ]
  },
  {
   "cell_type": "code",
   "execution_count": null,
   "metadata": {},
   "outputs": [],
   "source": [
    "from scripts import convert_img_to_tfrecord_script as citfs\n",
    "\n",
    "\n",
    "train_data_dir = os.path.join(IMPROVED_DARK_DATA_ROOT, 'train')\n",
    "validation_dir = os.path.join(IMPROVED_DARK_DATA_ROOT, 'test')\n",
    "\n",
    "os.makedirs(IMPROVED_TF_RECORD_ROOT + '/train', exist_ok=True)\n",
    "os.makedirs(IMPROVED_TF_RECORD_ROOT + '/test', exist_ok=True)\n",
    "\n",
    "train_tfrecord = IMPROVED_TF_RECORD_ROOT + '/train/train_data.tfrecords'\n",
    "test_tfrecord = IMPROVED_TF_RECORD_ROOT + '/test/test_data.tfrecords'\n",
    "\n",
    "\n",
    "citfs.open_and_write_TFRercord(train_data_dir, validation_dir, train_tfrecord, test_tfrecord)"
   ]
  },
  {
   "attachments": {},
   "cell_type": "markdown",
   "metadata": {},
   "source": [
    "### Checking if decoding tfrecord file works"
   ]
  },
  {
   "cell_type": "code",
   "execution_count": null,
   "metadata": {},
   "outputs": [],
   "source": [
    "import tensorflow as tf\n",
    "import matplotlib.pyplot as plt\n",
    "\n",
    "def _parse_function(example_proto):\n",
    "    feature_description = {\n",
    "        'label': tf.io.FixedLenFeature([], tf.int64),\n",
    "        'image_raw': tf.io.FixedLenFeature([], tf.string),\n",
    "    }\n",
    "    parsed_features = tf.io.parse_single_example(example_proto, feature_description)\n",
    "    return parsed_features\n",
    "\n",
    "def display_first_matching_by_label(tfrecord_file, label_number):\n",
    "    label_to_flower = {\n",
    "        0: 'daisy',\n",
    "        1: 'dandelion',\n",
    "        2: 'roses',\n",
    "        3: 'sunflowers',\n",
    "        4: 'tulips'\n",
    "    }\n",
    "    \n",
    "    raw_image_dataset = tf.data.TFRecordDataset(tfrecord_file)\n",
    "    image_dataset = raw_image_dataset.map(_parse_function)\n",
    "\n",
    "    for image_features in image_dataset:\n",
    "        label = image_features['label']\n",
    "        if label == label_number:\n",
    "            encoded_image = image_features['image_raw'].numpy()\n",
    "            decoded_image = tf.image.decode_jpeg(encoded_image, channels=3)\n",
    "            plt.imshow(decoded_image)\n",
    "            plt.title(f'Label: {label} {label_to_flower[label_number]}')\n",
    "            plt.show()\n",
    "            break\n",
    "\n",
    "# Display the first image with the specified label (0 to 4) from the train TFRecord file\n",
    "display_first_matching_by_label(train_tfrecord, 2)\n"
   ]
  },
  {
   "attachments": {},
   "cell_type": "markdown",
   "metadata": {},
   "source": [
    "### Model code"
   ]
  },
  {
   "cell_type": "code",
   "execution_count": null,
   "metadata": {},
   "outputs": [],
   "source": [
    "_trainer_module_file = 'flower_trainer.py'"
   ]
  },
  {
   "cell_type": "code",
   "execution_count": null,
   "metadata": {},
   "outputs": [],
   "source": [
    "%%writefile {_trainer_module_file}\n",
    "\n",
    "import tensorflow as tf\n",
    "from tfx import v1 as tfx\n",
    "import matplotlib.pyplot as plt\n",
    "import tensorflow_transform as tft\n",
    "from tfx_bsl.tfxio import dataset_options\n",
    "import os\n",
    "import gzip\n",
    "from typing import List\n",
    "from tensorflow_metadata.proto.v0 import schema_pb2\n",
    "from tfx import v1 as tfx\n",
    "from tfx_bsl.public import tfxio\n",
    "from tensorflow_transform.tf_metadata import schema_utils\n",
    "\n",
    "_IMAGE_KEY = 'image_raw'\n",
    "_LABEL_KEY = 'label'\n",
    "IMG_HEIGHT = 180\n",
    "IMG_WIDTH = 180\n",
    "batch_size = 2\n",
    "\n",
    "# TODO: Change this to what the actual train/test dir amount is, can be found with a print somewhere above\n",
    "#_TRAIN_DATA_SIZE = 2934\n",
    "_TRAIN_DATA_SIZE = 2203\n",
    "_TEST_DATA_SIZE = 736\n",
    "\n",
    "\n",
    "def _transformed_name(key):\n",
    "  return key + '_xf'\n",
    "\n",
    "# TFX Transform will call this function.\n",
    "def preprocessing_fn(inputs):\n",
    "  \"\"\"tf.transform's callback function for preprocessing inputs.\n",
    "  Args:\n",
    "    inputs: map from feature keys to raw not-yet-transformed features.\n",
    "  Returns:\n",
    "    Map from string feature key to transformed feature operations.\n",
    "  \"\"\"\n",
    "  outputs = {}\n",
    "  print(\"Transformer preprocessing is running....\")\n",
    "  image_features = tf.map_fn(\n",
    "      lambda x: tf.io.decode_jpeg(x[0], channels=3),\n",
    "      inputs[_IMAGE_KEY],\n",
    "      dtype=tf.uint8)\n",
    "  \n",
    "  #image_features = tf.cast(image_features, tf.float32)\n",
    "  image_features = tf.image.resize(image_features, [IMG_HEIGHT, IMG_WIDTH])\n",
    "  # Normalize the image features\n",
    "  # image_features = image_features / 255.0\n",
    "\n",
    "  image_features = tf.keras.applications.mobilenet.preprocess_input(\n",
    "     image_features)\n",
    "\n",
    "  outputs[_transformed_name(_IMAGE_KEY)] = image_features\n",
    "  outputs[_transformed_name(_LABEL_KEY)] = inputs[_LABEL_KEY]\n",
    "  \n",
    "  return outputs\n",
    "\n",
    "\n",
    "# Define a function to parse the tfrecord dataset\n",
    "def _parse_function(features, label):\n",
    "   image = features[_transformed_name(_IMAGE_KEY)]\n",
    "   return image, label\n",
    "\n",
    "def _input_fn(file_pattern: List[str],\n",
    "              data_accessor: tfx.components.DataAccessor,\n",
    "              tf_transform_output: tft.TFTransformOutput,\n",
    "              batch_size: int = 12) -> tf.data.Dataset:\n",
    "  \"\"\"Generates features and label for training.\n",
    "\n",
    "  Args:\n",
    "    file_pattern: List of paths or patterns of input tfrecord files.\n",
    "    data_accessor: DataAccessor for converting input to RecordBatch.\n",
    "    schema: schema of the input data.\n",
    "    batch_size: representing the number of consecutive elements of returned\n",
    "      dataset to combine in a single batch\n",
    "\n",
    "  Returns:\n",
    "    A dataset that contains (features, indices) tuple where features is a\n",
    "      dictionary of Tensors, and indices is a single Tensor of label indices.\n",
    "  \"\"\"  \n",
    "  dataset = data_accessor.tf_dataset_factory(\n",
    "      file_pattern,\n",
    "      dataset_options.TensorFlowDatasetOptions(\n",
    "          batch_size=batch_size, label_key=_transformed_name(_LABEL_KEY)),\n",
    "      tf_transform_output.transformed_metadata.schema)\n",
    "  \n",
    "  return dataset\n",
    "\n",
    "# TFX Trainer will call this function.\n",
    "def run_fn(fn_args: tfx.components.FnArgs):\n",
    "    \n",
    "    print(\"\\n\\n\\n Trainer component is running ... \\n\\n\\n\")\n",
    "\n",
    "    epochs = 5\n",
    "    # attempt at making a different model architecture that should be smaller than the original\n",
    "    \n",
    "    \"\"\"\n",
    "    OLD MODEL\n",
    "    model = tf.keras.Sequential([\n",
    "      #tf.keras.layers.Rescaling(1./255),\n",
    "      tf.keras.layers.Conv2D(32, 3, padding='same', activation='relu', input_shape=(IMG_HEIGHT, IMG_WIDTH, 3)),\n",
    "\n",
    "      tf.keras.layers.Conv2D(32, 3, activation='relu'),\n",
    "      tf.keras.layers.MaxPooling2D(),\n",
    "      tf.keras.layers.Conv2D(32, 3, activation='relu'),\n",
    "      tf.keras.layers.MaxPooling2D(),\n",
    "      tf.keras.layers.Conv2D(32, 3, activation='relu'),\n",
    "      tf.keras.layers.MaxPooling2D(),\n",
    "      tf.keras.layers.Flatten(),\n",
    "      tf.keras.layers.Dense(128, activation='relu'),\n",
    "      tf.keras.layers.Dropout(0.5),\n",
    "      tf.keras.layers.Dense(1, activation='sigmoid'),\n",
    "      tf.keras.layers.Dense(5) # 5 for num of classes of flowers\n",
    "    ])\n",
    "    \"\"\"\n",
    "    model = tf.keras.Sequential([\n",
    "      tf.keras.layers.Rescaling(1./255, input_shape=(IMG_HEIGHT, IMG_WIDTH, 3)),\n",
    "      tf.keras.layers.Conv2D(16, 3, padding='same', activation='relu'),\n",
    "      tf.keras.layers.MaxPooling2D(),\n",
    "      tf.keras.layers.Conv2D(32, 3, padding='same', activation='relu'),\n",
    "      tf.keras.layers.MaxPooling2D(),\n",
    "      tf.keras.layers.Conv2D(64, 3, padding='same', activation='relu'),\n",
    "      tf.keras.layers.MaxPooling2D(),\n",
    "      tf.keras.layers.Flatten(),\n",
    "      tf.keras.layers.Dense(128, activation='relu'),\n",
    "      tf.keras.layers.Dense(5) # 5 for num of classes of flowers\n",
    "    ])\n",
    "\n",
    " \n",
    "    # Compile the model\n",
    "    # OLD CODE\n",
    "    #model.compile(optimizer='adam',\n",
    "    #          loss=tf.keras.losses.BinaryCrossentropy(),\n",
    "    #          metrics=['accuracy'])\n",
    "    # NEW CODE\n",
    "    model.compile(optimizer='adam',\n",
    "              loss=tf.keras.losses.SparseCategoricalCrossentropy(from_logits=True),\n",
    "              metrics=['accuracy'])\n",
    "\n",
    "    # Print a summary of the model\n",
    "    model.summary()\n",
    "\n",
    "    tf_transform_output = tft.TFTransformOutput(fn_args.transform_output)\n",
    " \n",
    "    train_ds = _input_fn(\n",
    "      fn_args.train_files,\n",
    "      fn_args.data_accessor,\n",
    "      tf_transform_output,\n",
    "      batch_size=batch_size)\n",
    "    \n",
    "    train_ds = train_ds.map(_parse_function)\n",
    "\n",
    "    eval_ds = _input_fn(\n",
    "      fn_args.eval_files,\n",
    "      fn_args.data_accessor,\n",
    "      tf_transform_output,\n",
    "      batch_size=batch_size)\n",
    "    \n",
    "    eval_ds = eval_ds.map(_parse_function)\n",
    "\n",
    "    steps_per_epoch = int(_TRAIN_DATA_SIZE / batch_size)\n",
    "    validation_steps = int(_TEST_DATA_SIZE / batch_size)\n",
    "\n",
    "    # Train our model\n",
    "    history = model.fit(train_ds,\n",
    "                        epochs=epochs,\n",
    "                        validation_data=eval_ds, \n",
    "                        steps_per_epoch=steps_per_epoch, \n",
    "                        validation_steps=validation_steps)\n",
    "\n",
    "    acc = history.history['accuracy']\n",
    "    val_acc = history.history['val_accuracy']\n",
    "\n",
    "    loss = history.history['loss']\n",
    "    val_loss = history.history['val_loss']\n",
    "\n",
    "    epochs_range = range(epochs)\n",
    "\n",
    "    plt.figure(figsize=(8, 8))\n",
    "    plt.subplot(1, 2, 1)\n",
    "    plt.plot(epochs_range, acc, label='Training Accuracy')\n",
    "    plt.plot(epochs_range, val_acc, label='Validation Accuracy')\n",
    "    plt.legend(loc='lower right')\n",
    "    plt.title('Training and Validation Accuracy')\n",
    "\n",
    "    plt.subplot(1, 2, 2)\n",
    "    plt.plot(epochs_range, loss, label='Training Loss')\n",
    "    plt.plot(epochs_range, val_loss, label='Validation Loss')\n",
    "    plt.legend(loc='upper right')\n",
    "    plt.title('Training and Validation Loss')\n",
    "    plt.show()\n",
    "\n",
    "    # The result of the training should be saved in `fn_args.serving_model_dir`\n",
    "    # directory.\n",
    "    model.save(fn_args.serving_model_dir, save_format='tf')"
   ]
  },
  {
   "attachments": {},
   "cell_type": "markdown",
   "metadata": {},
   "source": [
    "### Pipeline definition"
   ]
  },
  {
   "cell_type": "code",
   "execution_count": null,
   "metadata": {},
   "outputs": [],
   "source": [
    "\n",
    "### This pipeline hard codes the dataset path inside the pipeline instead of as a input when running orchestrator\n",
    "from tfx.proto import example_gen_pb2\n",
    "from tfx.components import ImportExampleGen\n",
    "from tfx import v1 as tfx\n",
    "def _create_pipeline(pipeline_name: str, pipeline_root: str, \n",
    "                     tf_record_path: str, module_file: str, \n",
    "                     serving_model_dir: str, \n",
    "                     metadata_path: str) -> tfx.dsl.Pipeline:\n",
    "  print(\"Pipeline creation is running...\\n\\n\\n\")\n",
    " \n",
    "  input_config = example_gen_pb2.Input(splits=[\n",
    "      example_gen_pb2.Input.Split(name='train', pattern='train/*'),\n",
    "      example_gen_pb2.Input.Split(name='eval', pattern='test/*')\n",
    "  ])\n",
    "#TODO: Move hardcoded input base into an external variable and send it into the pipeline\n",
    "  # Brings data into the pipeline.\n",
    "  example_gen = ImportExampleGen(\n",
    "      input_base=tf_record_path, input_config=input_config)\n",
    "\n",
    "  # Computes statistics over data for visualization and schema generation.\n",
    "  statistics_gen = tfx.components.StatisticsGen(\n",
    "      examples=example_gen.outputs['examples'])\n",
    "  \n",
    "  # Generates schema based on the generated statistics.\n",
    "  schema_gen = tfx.components.SchemaGen(\n",
    "      statistics=statistics_gen.outputs['statistics'], infer_feature_shape=True)\n",
    "\n",
    "  #Performs anomaly detection based on statistics and data schema.\n",
    "  example_validator = tfx.components.ExampleValidator(\n",
    "      statistics=statistics_gen.outputs['statistics'],\n",
    "      schema = schema_gen.outputs['schema']\n",
    "  )\n",
    "\n",
    "  # Performs transformations and feature engineering in training and serving.\n",
    "  transform = tfx.components.Transform(\n",
    "      examples=example_gen.outputs['examples'],\n",
    "      schema=schema_gen.outputs['schema'],\n",
    "      module_file=module_file)\n",
    "\n",
    "  # Uses user-provided Python function that trains a model.\n",
    "  trainer = tfx.components.Trainer(\n",
    "      module_file=module_file,\n",
    "      examples=transform.outputs['transformed_examples'],\n",
    "      transform_graph=transform.outputs['transform_graph'],\n",
    "      schema= schema_gen.outputs['schema'],\n",
    "      )\n",
    "  \n",
    "  # Pushes the model to a filesystem destination.\n",
    "  pusher = tfx.components.Pusher(\n",
    "      model=trainer.outputs['model'],\n",
    "      push_destination=tfx.proto.PushDestination(\n",
    "          filesystem=tfx.proto.PushDestination.Filesystem(\n",
    "              base_directory=serving_model_dir)))\n",
    "  \n",
    "  # Following three components will be included in the pipeline.\n",
    "  components = [\n",
    "      example_gen,\n",
    "      statistics_gen,\n",
    "      schema_gen,\n",
    "      example_validator,\n",
    "      transform,\n",
    "      trainer,\n",
    "      pusher,\n",
    "  ]\n",
    "\n",
    "  return tfx.dsl.Pipeline(\n",
    "      pipeline_name=pipeline_name,\n",
    "      pipeline_root=pipeline_root,\n",
    "      metadata_connection_config=tfx.orchestration.metadata\n",
    "      .sqlite_metadata_connection_config(metadata_path),\n",
    "      components=components)"
   ]
  },
  {
   "attachments": {},
   "cell_type": "markdown",
   "metadata": {},
   "source": [
    "### Run Pipeline First Attempt With Dark Images"
   ]
  },
  {
   "cell_type": "code",
   "execution_count": null,
   "metadata": {},
   "outputs": [],
   "source": [
    "tfx.orchestration.LocalDagRunner().run(\n",
    "  _create_pipeline(\n",
    "      pipeline_name=PIPELINE_NAME,\n",
    "      pipeline_root=PIPELINE_ROOT,\n",
    "      tf_record_path=ORIGINAL_DARK_TF_RECORD_ROOT,\n",
    "      module_file=_trainer_module_file,\n",
    "      serving_model_dir=SERVING_MODEL_DIR,\n",
    "      metadata_path=METADATA_PATH))"
   ]
  },
  {
   "attachments": {},
   "cell_type": "markdown",
   "metadata": {},
   "source": [
    "### Run Pipeline First Attempt WITHOUT Dark Images"
   ]
  },
  {
   "cell_type": "code",
   "execution_count": null,
   "metadata": {},
   "outputs": [],
   "source": [
    "tfx.orchestration.LocalDagRunner().run(\n",
    "  _create_pipeline(\n",
    "      pipeline_name=PIPELINE_NAME,\n",
    "      pipeline_root=PIPELINE_ROOT,\n",
    "      tf_record_path=IMPROVED_TF_RECORD_ROOT,\n",
    "      module_file=_trainer_module_file,\n",
    "      serving_model_dir=SERVING_MODEL_DIR,\n",
    "      metadata_path=METADATA_PATH))"
   ]
  },
  {
   "cell_type": "code",
   "execution_count": 49,
   "metadata": {},
   "outputs": [
    {
     "name": "stdout",
     "output_type": "stream",
     "text": [
      "Pipeline creation is running...\n",
      "\n",
      "\n",
      "\n",
      "running bdist_wheel\n",
      "running build\n",
      "running build_py\n",
      "creating build\n",
      "creating build/lib\n",
      "copying penguin_utils.py -> build/lib\n",
      "copying dogs_vs_cats_trainer.py -> build/lib\n",
      "copying flower_trainer.py -> build/lib\n",
      "copying remove_csv.py -> build/lib\n",
      "installing to /tmp/tmp5fiqnx7o\n",
      "running install\n",
      "running install_lib\n",
      "copying build/lib/penguin_utils.py -> /tmp/tmp5fiqnx7o\n",
      "copying build/lib/dogs_vs_cats_trainer.py -> /tmp/tmp5fiqnx7o\n",
      "copying build/lib/flower_trainer.py -> /tmp/tmp5fiqnx7o\n",
      "copying build/lib/remove_csv.py -> /tmp/tmp5fiqnx7o\n",
      "running install_egg_info\n"
     ]
    },
    {
     "name": "stderr",
     "output_type": "stream",
     "text": [
      "/usr/local/lib/python3.7/site-packages/setuptools/command/install.py:37: SetuptoolsDeprecationWarning: setup.py install is deprecated. Use build and pip and other standards-based tools.\n",
      "  setuptools.SetuptoolsDeprecationWarning,\n"
     ]
    },
    {
     "name": "stdout",
     "output_type": "stream",
     "text": [
      "running egg_info\n",
      "creating tfx_user_code_Transform.egg-info\n",
      "writing tfx_user_code_Transform.egg-info/PKG-INFO\n",
      "writing dependency_links to tfx_user_code_Transform.egg-info/dependency_links.txt\n",
      "writing top-level names to tfx_user_code_Transform.egg-info/top_level.txt\n",
      "writing manifest file 'tfx_user_code_Transform.egg-info/SOURCES.txt'\n",
      "reading manifest file 'tfx_user_code_Transform.egg-info/SOURCES.txt'\n",
      "writing manifest file 'tfx_user_code_Transform.egg-info/SOURCES.txt'\n",
      "Copying tfx_user_code_Transform.egg-info to /tmp/tmp5fiqnx7o/tfx_user_code_Transform-0.0+54a35392b5f168f45f7f72e7211b4faec7c3fe77a3bba2965f0bbe43ca4cabd1-py3.7.egg-info\n",
      "running install_scripts\n",
      "creating /tmp/tmp5fiqnx7o/tfx_user_code_Transform-0.0+54a35392b5f168f45f7f72e7211b4faec7c3fe77a3bba2965f0bbe43ca4cabd1.dist-info/WHEEL\n",
      "creating '/tmp/tmpuqtxmkfg/tfx_user_code_Transform-0.0+54a35392b5f168f45f7f72e7211b4faec7c3fe77a3bba2965f0bbe43ca4cabd1-py3-none-any.whl' and adding '/tmp/tmp5fiqnx7o' to it\n",
      "adding 'dogs_vs_cats_trainer.py'\n",
      "adding 'flower_trainer.py'\n",
      "adding 'penguin_utils.py'\n",
      "adding 'remove_csv.py'\n",
      "adding 'tfx_user_code_Transform-0.0+54a35392b5f168f45f7f72e7211b4faec7c3fe77a3bba2965f0bbe43ca4cabd1.dist-info/METADATA'\n",
      "adding 'tfx_user_code_Transform-0.0+54a35392b5f168f45f7f72e7211b4faec7c3fe77a3bba2965f0bbe43ca4cabd1.dist-info/WHEEL'\n",
      "adding 'tfx_user_code_Transform-0.0+54a35392b5f168f45f7f72e7211b4faec7c3fe77a3bba2965f0bbe43ca4cabd1.dist-info/top_level.txt'\n",
      "adding 'tfx_user_code_Transform-0.0+54a35392b5f168f45f7f72e7211b4faec7c3fe77a3bba2965f0bbe43ca4cabd1.dist-info/RECORD'\n",
      "removing /tmp/tmp5fiqnx7o\n",
      "running bdist_wheel\n",
      "running build\n",
      "running build_py\n",
      "creating build\n",
      "creating build/lib\n",
      "copying penguin_utils.py -> build/lib\n",
      "copying dogs_vs_cats_trainer.py -> build/lib\n",
      "copying flower_trainer.py -> build/lib\n",
      "copying remove_csv.py -> build/lib\n"
     ]
    },
    {
     "name": "stderr",
     "output_type": "stream",
     "text": [
      "/usr/local/lib/python3.7/site-packages/setuptools/command/install.py:37: SetuptoolsDeprecationWarning: setup.py install is deprecated. Use build and pip and other standards-based tools.\n",
      "  setuptools.SetuptoolsDeprecationWarning,\n"
     ]
    },
    {
     "name": "stdout",
     "output_type": "stream",
     "text": [
      "installing to /tmp/tmpw1l7j0yr\n",
      "running install\n",
      "running install_lib\n",
      "copying build/lib/penguin_utils.py -> /tmp/tmpw1l7j0yr\n",
      "copying build/lib/dogs_vs_cats_trainer.py -> /tmp/tmpw1l7j0yr\n",
      "copying build/lib/flower_trainer.py -> /tmp/tmpw1l7j0yr\n",
      "copying build/lib/remove_csv.py -> /tmp/tmpw1l7j0yr\n",
      "running install_egg_info\n",
      "running egg_info\n",
      "creating tfx_user_code_Trainer.egg-info\n",
      "writing tfx_user_code_Trainer.egg-info/PKG-INFO\n",
      "writing dependency_links to tfx_user_code_Trainer.egg-info/dependency_links.txt\n",
      "writing top-level names to tfx_user_code_Trainer.egg-info/top_level.txt\n",
      "writing manifest file 'tfx_user_code_Trainer.egg-info/SOURCES.txt'\n",
      "reading manifest file 'tfx_user_code_Trainer.egg-info/SOURCES.txt'\n",
      "writing manifest file 'tfx_user_code_Trainer.egg-info/SOURCES.txt'\n",
      "Copying tfx_user_code_Trainer.egg-info to /tmp/tmpw1l7j0yr/tfx_user_code_Trainer-0.0+54a35392b5f168f45f7f72e7211b4faec7c3fe77a3bba2965f0bbe43ca4cabd1-py3.7.egg-info\n",
      "running install_scripts\n",
      "creating /tmp/tmpw1l7j0yr/tfx_user_code_Trainer-0.0+54a35392b5f168f45f7f72e7211b4faec7c3fe77a3bba2965f0bbe43ca4cabd1.dist-info/WHEEL\n",
      "creating '/tmp/tmpyakz3124/tfx_user_code_Trainer-0.0+54a35392b5f168f45f7f72e7211b4faec7c3fe77a3bba2965f0bbe43ca4cabd1-py3-none-any.whl' and adding '/tmp/tmpw1l7j0yr' to it\n",
      "adding 'dogs_vs_cats_trainer.py'\n",
      "adding 'flower_trainer.py'\n",
      "adding 'penguin_utils.py'\n",
      "adding 'remove_csv.py'\n",
      "adding 'tfx_user_code_Trainer-0.0+54a35392b5f168f45f7f72e7211b4faec7c3fe77a3bba2965f0bbe43ca4cabd1.dist-info/METADATA'\n",
      "adding 'tfx_user_code_Trainer-0.0+54a35392b5f168f45f7f72e7211b4faec7c3fe77a3bba2965f0bbe43ca4cabd1.dist-info/WHEEL'\n",
      "adding 'tfx_user_code_Trainer-0.0+54a35392b5f168f45f7f72e7211b4faec7c3fe77a3bba2965f0bbe43ca4cabd1.dist-info/top_level.txt'\n",
      "adding 'tfx_user_code_Trainer-0.0+54a35392b5f168f45f7f72e7211b4faec7c3fe77a3bba2965f0bbe43ca4cabd1.dist-info/RECORD'\n",
      "removing /tmp/tmpw1l7j0yr\n"
     ]
    },
    {
     "name": "stderr",
     "output_type": "stream",
     "text": [
      "WARNING:absl:ArtifactQuery.property_predicate is not supported.\n",
      "WARNING:absl:ArtifactQuery.property_predicate is not supported.\n",
      "WARNING:absl:ArtifactQuery.property_predicate is not supported.\n",
      "WARNING:absl:ArtifactQuery.property_predicate is not supported.\n",
      "WARNING:absl:ArtifactQuery.property_predicate is not supported.\n",
      "WARNING:absl:ArtifactQuery.property_predicate is not supported.\n"
     ]
    },
    {
     "name": "stdout",
     "output_type": "stream",
     "text": [
      "Processing ./pipelines/flower_pipeline/_wheels/tfx_user_code_Transform-0.0+54a35392b5f168f45f7f72e7211b4faec7c3fe77a3bba2965f0bbe43ca4cabd1-py3-none-any.whl\n",
      "Installing collected packages: tfx-user-code-Transform\n",
      "Successfully installed tfx-user-code-Transform-0.0+54a35392b5f168f45f7f72e7211b4faec7c3fe77a3bba2965f0bbe43ca4cabd1\n"
     ]
    },
    {
     "name": "stderr",
     "output_type": "stream",
     "text": [
      "WARNING: You are using pip version 22.0.4; however, version 23.1.2 is available.\n",
      "You should consider upgrading via the '/usr/local/bin/python -m pip install --upgrade pip' command.\n"
     ]
    },
    {
     "name": "stdout",
     "output_type": "stream",
     "text": [
      "Processing ./pipelines/flower_pipeline/_wheels/tfx_user_code_Transform-0.0+54a35392b5f168f45f7f72e7211b4faec7c3fe77a3bba2965f0bbe43ca4cabd1-py3-none-any.whl\n",
      "Installing collected packages: tfx-user-code-Transform\n",
      "Successfully installed tfx-user-code-Transform-0.0+54a35392b5f168f45f7f72e7211b4faec7c3fe77a3bba2965f0bbe43ca4cabd1\n"
     ]
    },
    {
     "name": "stderr",
     "output_type": "stream",
     "text": [
      "WARNING: You are using pip version 22.0.4; however, version 23.1.2 is available.\n",
      "You should consider upgrading via the '/usr/local/bin/python -m pip install --upgrade pip' command.\n"
     ]
    },
    {
     "name": "stdout",
     "output_type": "stream",
     "text": [
      "Processing ./pipelines/flower_pipeline/_wheels/tfx_user_code_Transform-0.0+54a35392b5f168f45f7f72e7211b4faec7c3fe77a3bba2965f0bbe43ca4cabd1-py3-none-any.whl\n",
      "Installing collected packages: tfx-user-code-Transform\n",
      "Successfully installed tfx-user-code-Transform-0.0+54a35392b5f168f45f7f72e7211b4faec7c3fe77a3bba2965f0bbe43ca4cabd1\n",
      "Transformer preprocessing is running....\n"
     ]
    },
    {
     "name": "stderr",
     "output_type": "stream",
     "text": [
      "WARNING: You are using pip version 22.0.4; however, version 23.1.2 is available.\n",
      "You should consider upgrading via the '/usr/local/bin/python -m pip install --upgrade pip' command.\n"
     ]
    },
    {
     "name": "stdout",
     "output_type": "stream",
     "text": [
      "Transformer preprocessing is running....\n",
      "Transformer preprocessing is running....\n"
     ]
    },
    {
     "name": "stderr",
     "output_type": "stream",
     "text": [
      "WARNING:root:This output type hint will be ignored and not used for type-checking purposes. Typically, output type hints for a PTransform are single (or nested) types wrapped by a PCollection, PDone, or None. Got: Tuple[Dict[<class 'str'>, Union[<class 'NoneType'>, <class 'tfx.components.transform.executor._Dataset'>]], Union[<class 'NoneType'>, Dict[<class 'str'>, Dict[<class 'str'>, <class 'apache_beam.pvalue.PCollection'>]]], <class 'int'>] instead.\n",
      "WARNING:root:This output type hint will be ignored and not used for type-checking purposes. Typically, output type hints for a PTransform are single (or nested) types wrapped by a PCollection, PDone, or None. Got: Tuple[Dict[<class 'str'>, Union[<class 'NoneType'>, <class 'tfx.components.transform.executor._Dataset'>]], Union[<class 'NoneType'>, Dict[<class 'str'>, Dict[<class 'str'>, <class 'apache_beam.pvalue.PCollection'>]]], <class 'int'>] instead.\n"
     ]
    },
    {
     "name": "stdout",
     "output_type": "stream",
     "text": [
      "Transformer preprocessing is running....\n",
      "Transformer preprocessing is running....\n",
      "Transformer preprocessing is running....\n",
      "Transformer preprocessing is running....\n",
      "Transformer preprocessing is running....\n",
      "INFO:tensorflow:Assets written to: pipelines/flower_pipeline/Transform/transform_graph/19/.temp_path/tftransform_tmp/2e1f1ff8077447a48177a11122ace94e/assets\n"
     ]
    },
    {
     "name": "stderr",
     "output_type": "stream",
     "text": [
      "INFO:tensorflow:Assets written to: pipelines/flower_pipeline/Transform/transform_graph/19/.temp_path/tftransform_tmp/2e1f1ff8077447a48177a11122ace94e/assets\n"
     ]
    },
    {
     "name": "stdout",
     "output_type": "stream",
     "text": [
      "Transformer preprocessing is running....\n",
      "INFO:tensorflow:struct2tensor is not available.\n"
     ]
    },
    {
     "name": "stderr",
     "output_type": "stream",
     "text": [
      "INFO:tensorflow:struct2tensor is not available.\n"
     ]
    },
    {
     "name": "stdout",
     "output_type": "stream",
     "text": [
      "INFO:tensorflow:tensorflow_decision_forests is not available.\n"
     ]
    },
    {
     "name": "stderr",
     "output_type": "stream",
     "text": [
      "INFO:tensorflow:tensorflow_decision_forests is not available.\n"
     ]
    },
    {
     "name": "stdout",
     "output_type": "stream",
     "text": [
      "INFO:tensorflow:tensorflow_text is not available.\n"
     ]
    },
    {
     "name": "stderr",
     "output_type": "stream",
     "text": [
      "INFO:tensorflow:tensorflow_text is not available.\n"
     ]
    },
    {
     "name": "stdout",
     "output_type": "stream",
     "text": [
      "INFO:tensorflow:struct2tensor is not available.\n"
     ]
    },
    {
     "name": "stderr",
     "output_type": "stream",
     "text": [
      "INFO:tensorflow:struct2tensor is not available.\n"
     ]
    },
    {
     "name": "stdout",
     "output_type": "stream",
     "text": [
      "INFO:tensorflow:tensorflow_decision_forests is not available.\n"
     ]
    },
    {
     "name": "stderr",
     "output_type": "stream",
     "text": [
      "INFO:tensorflow:tensorflow_decision_forests is not available.\n"
     ]
    },
    {
     "name": "stdout",
     "output_type": "stream",
     "text": [
      "INFO:tensorflow:tensorflow_text is not available.\n"
     ]
    },
    {
     "name": "stderr",
     "output_type": "stream",
     "text": [
      "INFO:tensorflow:tensorflow_text is not available.\n",
      "WARNING:absl:ArtifactQuery.property_predicate is not supported.\n",
      "WARNING:absl:ArtifactQuery.property_predicate is not supported.\n",
      "WARNING:absl:ArtifactQuery.property_predicate is not supported.\n",
      "WARNING:absl:Examples artifact does not have payload_format custom property. Falling back to FORMAT_TF_EXAMPLE\n",
      "WARNING:absl:Examples artifact does not have payload_format custom property. Falling back to FORMAT_TF_EXAMPLE\n",
      "WARNING:absl:Examples artifact does not have payload_format custom property. Falling back to FORMAT_TF_EXAMPLE\n"
     ]
    },
    {
     "name": "stdout",
     "output_type": "stream",
     "text": [
      "Processing ./pipelines/flower_pipeline/_wheels/tfx_user_code_Trainer-0.0+54a35392b5f168f45f7f72e7211b4faec7c3fe77a3bba2965f0bbe43ca4cabd1-py3-none-any.whl\n",
      "Installing collected packages: tfx-user-code-Trainer\n",
      "Successfully installed tfx-user-code-Trainer-0.0+54a35392b5f168f45f7f72e7211b4faec7c3fe77a3bba2965f0bbe43ca4cabd1\n",
      "\n",
      "\n",
      "\n",
      " Trainer component is running ... \n",
      "\n",
      "\n",
      "\n"
     ]
    },
    {
     "name": "stderr",
     "output_type": "stream",
     "text": [
      "WARNING: You are using pip version 22.0.4; however, version 23.1.2 is available.\n",
      "You should consider upgrading via the '/usr/local/bin/python -m pip install --upgrade pip' command.\n"
     ]
    },
    {
     "name": "stdout",
     "output_type": "stream",
     "text": [
      "Model: \"sequential_6\"\n",
      "_________________________________________________________________\n",
      " Layer (type)                Output Shape              Param #   \n",
      "=================================================================\n",
      " rescaling_3 (Rescaling)     (None, 180, 180, 3)       0         \n",
      "                                                                 \n",
      " conv2d_21 (Conv2D)          (None, 180, 180, 16)      448       \n",
      "                                                                 \n",
      " max_pooling2d_18 (MaxPoolin  (None, 90, 90, 16)       0         \n",
      " g2D)                                                            \n",
      "                                                                 \n",
      " conv2d_22 (Conv2D)          (None, 90, 90, 32)        4640      \n",
      "                                                                 \n",
      " max_pooling2d_19 (MaxPoolin  (None, 45, 45, 32)       0         \n",
      " g2D)                                                            \n",
      "                                                                 \n",
      " conv2d_23 (Conv2D)          (None, 45, 45, 64)        18496     \n",
      "                                                                 \n",
      " max_pooling2d_20 (MaxPoolin  (None, 22, 22, 64)       0         \n",
      " g2D)                                                            \n",
      "                                                                 \n",
      " flatten_6 (Flatten)         (None, 30976)             0         \n",
      "                                                                 \n",
      " dense_15 (Dense)            (None, 128)               3965056   \n",
      "                                                                 \n",
      " dense_16 (Dense)            (None, 5)                 645       \n",
      "                                                                 \n",
      "=================================================================\n",
      "Total params: 3,989,285\n",
      "Trainable params: 3,989,285\n",
      "Non-trainable params: 0\n",
      "_________________________________________________________________\n",
      "Epoch 1/5\n"
     ]
    },
    {
     "name": "stderr",
     "output_type": "stream",
     "text": [
      "2023-05-07 11:21:07.575608: I tensorflow/core/kernels/data/shuffle_dataset_op.cc:392] Filling up shuffle buffer (this may take a while): 4394 of 10000\n"
     ]
    },
    {
     "name": "stdout",
     "output_type": "stream",
     "text": [
      "   3/1101 [..............................] - ETA: 1:12 - loss: 1.6152 - accuracy: 0.1667     "
     ]
    },
    {
     "name": "stderr",
     "output_type": "stream",
     "text": [
      "2023-05-07 11:21:12.618229: I tensorflow/core/kernels/data/shuffle_dataset_op.cc:417] Shuffle buffer filled.\n"
     ]
    },
    {
     "name": "stdout",
     "output_type": "stream",
     "text": [
      "1101/1101 [==============================] - 88s 64ms/step - loss: 1.6048 - accuracy: 0.2348 - val_loss: 1.6009 - val_accuracy: 0.2446\n",
      "Epoch 2/5\n",
      "1101/1101 [==============================] - 70s 63ms/step - loss: 1.6015 - accuracy: 0.2443 - val_loss: 1.6003 - val_accuracy: 0.2446\n",
      "Epoch 3/5\n",
      "1101/1101 [==============================] - 69s 63ms/step - loss: 1.6009 - accuracy: 0.2448 - val_loss: 1.6003 - val_accuracy: 0.2446\n",
      "Epoch 4/5\n",
      "1101/1101 [==============================] - 74s 68ms/step - loss: 1.6011 - accuracy: 0.2443 - val_loss: 1.6003 - val_accuracy: 0.2446\n",
      "Epoch 5/5\n",
      "1101/1101 [==============================] - 69s 62ms/step - loss: 1.6006 - accuracy: 0.2457 - val_loss: 1.6003 - val_accuracy: 0.2446\n"
     ]
    },
    {
     "data": {
      "image/png": "[encoded data removed]",
      "text/plain": [
       "<Figure size 800x800 with 2 Axes>"
      ]
     },
     "metadata": {},
     "output_type": "display_data"
    },
    {
     "name": "stderr",
     "output_type": "stream",
     "text": [
      "WARNING:absl:Found untraced functions such as _jit_compiled_convolution_op, _jit_compiled_convolution_op, _jit_compiled_convolution_op, _update_step_xla while saving (showing 4 of 4). These functions will not be directly callable after loading.\n"
     ]
    },
    {
     "name": "stdout",
     "output_type": "stream",
     "text": [
      "INFO:tensorflow:Assets written to: pipelines/flower_pipeline/Trainer/model/20/Format-Serving/assets\n"
     ]
    },
    {
     "name": "stderr",
     "output_type": "stream",
     "text": [
      "INFO:tensorflow:Assets written to: pipelines/flower_pipeline/Trainer/model/20/Format-Serving/assets\n",
      "WARNING:absl:ArtifactQuery.property_predicate is not supported.\n",
      "WARNING:absl:Pusher is going to push the model without validation. Consider using Evaluator or InfraValidator in your pipeline.\n"
     ]
    }
   ],
   "source": [
    "tfx.orchestration.LocalDagRunner().run(\n",
    "  _create_pipeline(\n",
    "      pipeline_name=PIPELINE_NAME,\n",
    "      pipeline_root=PIPELINE_ROOT,\n",
    "      tf_record_path='flowers-tfrecord',\n",
    "      module_file=_trainer_module_file,\n",
    "      serving_model_dir=SERVING_MODEL_DIR,\n",
    "      metadata_path=METADATA_PATH))"
   ]
  },
  {
   "attachments": {},
   "cell_type": "markdown",
   "metadata": {},
   "source": [
    "### Model accuracy test"
   ]
  },
  {
   "cell_type": "code",
   "execution_count": null,
   "metadata": {},
   "outputs": [],
   "source": []
  },
  {
   "attachments": {},
   "cell_type": "markdown",
   "metadata": {},
   "source": [
    "### Result querying"
   ]
  },
  {
   "cell_type": "code",
   "execution_count": null,
   "metadata": {},
   "outputs": [],
   "source": [
    "# List files in created model directory.\n",
    "!find {SERVING_MODEL_DIR}"
   ]
  },
  {
   "cell_type": "code",
   "execution_count": null,
   "metadata": {},
   "outputs": [],
   "source": [
    "from ml_metadata.proto import metadata_store_pb2\n",
    "# Non-public APIs, just for showcase.\n",
    "from tfx.orchestration.portable.mlmd import execution_lib\n",
    "\n",
    "# TODO(b/171447278): Move these functions into the TFX library.\n",
    "\n",
    "def get_latest_artifacts(metadata, pipeline_name, component_id):\n",
    "  \"\"\"Output artifacts of the latest run of the component.\"\"\"\n",
    "  context = metadata.store.get_context_by_type_and_name(\n",
    "      'node', f'{pipeline_name}.{component_id}')\n",
    "  executions = metadata.store.get_executions_by_context(context.id)\n",
    "  latest_execution = max(executions,\n",
    "                         key=lambda e:e.last_update_time_since_epoch)\n",
    "  return execution_lib.get_output_artifacts(metadata, latest_execution.id)\n",
    "\n",
    "# Non-public APIs, just for showcase.\n",
    "from tfx.orchestration.experimental.interactive import visualizations\n",
    "\n",
    "def visualize_artifacts(artifacts):\n",
    "  \"\"\"Visualizes artifacts using standard visualization modules.\"\"\"\n",
    "  for artifact in artifacts:\n",
    "    visualization = visualizations.get_registry().get_visualization(\n",
    "        artifact.type_name)\n",
    "    if visualization:\n",
    "      visualization.display(artifact)\n",
    "\n",
    "from tfx.orchestration.experimental.interactive import standard_visualizations\n",
    "standard_visualizations.register_standard_visualizations()"
   ]
  },
  {
   "cell_type": "code",
   "execution_count": null,
   "metadata": {},
   "outputs": [],
   "source": [
    "# Non-public APIs, just for showcase.\n",
    "from tfx.orchestration.metadata import Metadata\n",
    "from tfx.types import standard_component_specs\n",
    "\n",
    "metadata_connection_config = tfx.orchestration.metadata.sqlite_metadata_connection_config(\n",
    "    METADATA_PATH)\n",
    "\n",
    "with Metadata(metadata_connection_config) as metadata_handler:\n",
    "  # Find output artifacts from MLMD.\n",
    "  stat_gen_output = get_latest_artifacts(metadata_handler, PIPELINE_NAME,\n",
    "                                         'StatisticsGen')\n",
    "  stats_artifacts = stat_gen_output[standard_component_specs.STATISTICS_KEY]\n",
    "\n",
    "  schema_gen_output = get_latest_artifacts(metadata_handler,\n",
    "                                           PIPELINE_NAME, 'SchemaGen')\n",
    "  schema_artifacts = schema_gen_output[standard_component_specs.SCHEMA_KEY]"
   ]
  },
  {
   "cell_type": "code",
   "execution_count": null,
   "metadata": {},
   "outputs": [],
   "source": [
    "visualize_artifacts(stats_artifacts)"
   ]
  },
  {
   "cell_type": "code",
   "execution_count": null,
   "metadata": {},
   "outputs": [],
   "source": [
    "visualize_artifacts(schema_artifacts)"
   ]
  },
  {
   "cell_type": "code",
   "execution_count": null,
   "metadata": {},
   "outputs": [],
   "source": [
    "metadata_connection_config = tfx.orchestration.metadata.sqlite_metadata_connection_config(\n",
    "    METADATA_PATH)\n",
    "\n",
    "with Metadata(metadata_connection_config) as metadata_handler:\n",
    "  ev_output = get_latest_artifacts(metadata_handler, PIPELINE_NAME,\n",
    "                                   'ExampleValidator')\n",
    "  anomalies_artifacts = ev_output[standard_component_specs.ANOMALIES_KEY]"
   ]
  },
  {
   "cell_type": "code",
   "execution_count": null,
   "metadata": {},
   "outputs": [],
   "source": [
    "\n",
    "visualize_artifacts(anomalies_artifacts)"
   ]
  }
 ],
 "metadata": {
  "kernelspec": {
   "display_name": "Python 3",
   "language": "python",
   "name": "python3"
  },
  "language_info": {
   "codemirror_mode": {
    "name": "ipython",
    "version": 3
   },
   "file_extension": ".py",
   "mimetype": "text/x-python",
   "name": "python",
   "nbconvert_exporter": "python",
   "pygments_lexer": "ipython3",
   "version": "3.7.16"
  },
  "orig_nbformat": 4
 },
 "nbformat": 4,
 "nbformat_minor": 2
}
