{
 "cells": [
  {
   "cell_type": "markdown",
   "metadata": {},
   "source": [
    "### SETUP"
   ]
  },
  {
   "cell_type": "code",
   "execution_count": null,
   "metadata": {},
   "outputs": [],
   "source": [
    "!pip install --user tfx tensorflow Pillow tensorflow_datasets matplotlib azure-storage-blob"
   ]
  },
  {
   "cell_type": "markdown",
   "metadata": {},
   "source": [
    "### Imports\n"
   ]
  },
  {
   "cell_type": "code",
   "execution_count": null,
   "metadata": {
    "tags": []
   },
   "outputs": [],
   "source": [
    "import numpy as np\n",
    "import os\n",
    "import PIL\n",
    "import PIL.Image\n",
    "import tensorflow as tf\n",
    "import tensorflow_datasets as tfds\n",
    "import IPython.display as display\n",
    "from azure.storage.blob import BlobServiceClient, AccountSasPermissions, ResourceTypes\n",
    "from datetime import datetime, timedelta\n",
    "import random\n",
    "from io import BytesIO"
   ]
  },
  {
   "cell_type": "markdown",
   "metadata": {},
   "source": [
    "### Downloading images from Azure"
   ]
  },
  {
   "cell_type": "code",
   "execution_count": null,
   "metadata": {},
   "outputs": [],
   "source": [
    "connection_string = \"DefaultEndpointsProtocol=https;AccountName=datacentricthesis;AccountKey=Z2yIApz/GjhHPu28cAclxOnaqChRERQlrmGkfqfDcpCLlBRo/oPBN8n3Mhg6cRVFR5b/iS0ZxZ/D+ASt378Qfw==;EndpointSuffix=core.windows.net\"\n",
    "account_name = \"datacentricthesis\""
   ]
  },
  {
   "cell_type": "code",
   "execution_count": null,
   "metadata": {},
   "outputs": [],
   "source": [
    "def download_directory_from_blob_storage(blob_service_client, container_name, destination_directory, prefix=\"\"):\n",
    "  container_client = blob_service_client.get_container_client(container_name)\n",
    "  blob_list = container_client.list_blobs(name_starts_with=prefix)\n",
    "  \n",
    "  for blob in blob_list:\n",
    "    blob_path = os.path.relpath(blob.name, prefix)\n",
    "    local_path = os.path.join(destination_directory, blob_path)\n",
    "\n",
    "    os.makedirs(os.path.dirname(local_path), exist_ok=True)\n",
    "\n",
    "    blob_client = container_client.get_blob_client(blob.name)\n",
    "    with open(local_path, \"wb\") as file:\n",
    "        file.write(blob_client.download_blob().readall())"
   ]
  },
  {
   "cell_type": "code",
   "execution_count": null,
   "metadata": {},
   "outputs": [],
   "source": [
    "blob_service_client = BlobServiceClient.from_connection_string(connection_string)\n",
    "container_name = \"flowers\"\n",
    "destination_directory = \"./azure_blob_storage_test\"\n",
    "prefix = \"flower_photos/\"\n",
    "\n",
    "if not (os.path.exists(destination_directory)):\n",
    "  print(\"Only create and download if destination doesn't extist so we don't override it \\n\")\n",
    "  \n",
    "  download_directory_from_blob_storage(blob_service_client, container_name, destination_directory, prefix)"
   ]
  },
  {
   "cell_type": "markdown",
   "metadata": {},
   "source": [
    "### Manually splitting dataset into train and test directories"
   ]
  },
  {
   "cell_type": "code",
   "execution_count": null,
   "metadata": {},
   "outputs": [],
   "source": [
    "import os\n",
    "import shutil\n",
    "import random\n",
    "\n",
    "def split_dataset_into_train_and_test(image_directory, output_directory, train_split=0.8):\n",
    "    # List all the category subdirectories in the main directory\n",
    "    categories = [d for d in os.listdir(image_directory) if os.path.isdir(os.path.join(image_directory, d))]\n",
    "\n",
    "    # Create train and test directories in the output directory\n",
    "    train_directory = os.path.join(output_directory, 'train')\n",
    "    test_directory = os.path.join(output_directory, 'test')\n",
    "\n",
    "    os.makedirs(train_directory, exist_ok=True)\n",
    "    os.makedirs(test_directory, exist_ok=True)\n",
    "\n",
    "    # Iterate through each category subdirectory\n",
    "    for category in categories:\n",
    "        category_directory = os.path.join(image_directory, category)\n",
    "\n",
    "        # List all the image files in the category subdirectory\n",
    "        images = os.listdir(category_directory)\n",
    "        images = [img for img in images if img.lower().endswith(('.png', '.jpg', '.jpeg', '.bmp', '.tiff', '.gif'))]\n",
    "\n",
    "        # Shuffle the list of image files\n",
    "        random.shuffle(images)\n",
    "\n",
    "        # Create category subdirectories in train and test directories\n",
    "        train_category_directory = os.path.join(train_directory, category)\n",
    "        test_category_directory = os.path.join(test_directory, category)\n",
    "\n",
    "        os.makedirs(train_category_directory, exist_ok=True)\n",
    "        os.makedirs(test_category_directory, exist_ok=True)\n",
    "\n",
    "        # Split the image files into train and test sets\n",
    "        split_index = int(len(images) * train_split)\n",
    "        train_images = images[:split_index]\n",
    "        test_images = images[split_index:]\n",
    "\n",
    "        # Copy the images to the respective directories\n",
    "        for img in train_images:\n",
    "            shutil.copy2(os.path.join(category_directory, img), os.path.join(train_category_directory, img))\n",
    "\n",
    "        for img in test_images:\n",
    "            shutil.copy2(os.path.join(category_directory, img), os.path.join(test_category_directory, img))\n",
    "\n",
    "        print(f'Successfully split {len(images)} images in category \"{category}\" into {len(train_images)} train and {len(test_images)} test images.')\n",
    "\n",
    "image_directory = 'azure_blob_storage_test'\n",
    "data_root ='flowers'\n",
    "os.makedirs(data_root, exist_ok=True)\n",
    "split_dataset_into_train_and_test(image_directory, data_root)\n"
   ]
  },
  {
   "cell_type": "markdown",
   "metadata": {},
   "source": [
    "### Darken images in train part of dataset\n",
    "\n"
   ]
  },
  {
   "cell_type": "code",
   "execution_count": null,
   "metadata": {},
   "outputs": [],
   "source": [
    "!pip install cleanvison"
   ]
  },
  {
   "cell_type": "markdown",
   "metadata": {},
   "source": [
    "#### Report amount of dark images in set - Try 1"
   ]
  },
  {
   "cell_type": "code",
   "execution_count": null,
   "metadata": {},
   "outputs": [],
   "source": [
    "# Show how many issues with dataset\n",
    "# Finding faults with train images.\n",
    "from cleanvision.imagelab import Imagelab\n",
    "\n",
    "# Specify path to folder containing the image files in your dataset\n",
    "imagelab = Imagelab(data_path=\"flowers/train/\")\n",
    "\n",
    "issue_types = {\"dark\": {}}\n",
    "imagelab.find_issues(issue_types=issue_types)\n",
    "\n",
    "# Produce a report with only the specified issue_types\n",
    "imagelab.report()\n",
    "\n"
   ]
  },
  {
   "cell_type": "code",
   "execution_count": null,
   "metadata": {},
   "outputs": [],
   "source": [
    "# Run the darken image script to darken X% of images and place into a new dir\n",
    "%run 'scripts/darken_image_script.py'"
   ]
  },
  {
   "cell_type": "markdown",
   "metadata": {},
   "source": [
    "#### Report amount of dark images in set - Try 2"
   ]
  },
  {
   "cell_type": "code",
   "execution_count": null,
   "metadata": {},
   "outputs": [],
   "source": [
    "# Show how many issues with dataset\n",
    "# Finding faults with train images.\n",
    "\n",
    "# Specify path to folder containing the image files in your dataset\n",
    "imagelab = Imagelab(data_path=\"darkened_images/\")\n",
    "\n",
    "issue_types = {\"dark\": {}}\n",
    "imagelab.find_issues(issue_types=issue_types)\n",
    "\n",
    "# Produce a report with only the specified issue_types\n",
    "imagelab.report()\n"
   ]
  },
  {
   "cell_type": "markdown",
   "metadata": {},
   "source": [
    "Number of darked images should be around the same amount specified in script, that would be 25% or around 700 images for us"
   ]
  },
  {
   "cell_type": "markdown",
   "metadata": {},
   "source": [
    "### Create a new dir with dark images train/test split"
   ]
  },
  {
   "cell_type": "code",
   "execution_count": null,
   "metadata": {},
   "outputs": [],
   "source": [
    "from scripts import create_train_dataset_from_images as ctd\n",
    "\n",
    "ctd.create_train_dataset_from_images('darkened_images', 'flowers_original_dark_dataset','train')\n",
    "ctd.create_train_dataset_from_images('flowers/test', 'flowers_original_dark_dataset','test')\n",
    "\n",
    "file_count = 0\n",
    "for root, dirs, files in os.walk('flowers_original_dark_dataset/train'):\n",
    "    file_count += len(files)\n",
    "\n",
    "print(f\"The total number of files in flowers_original_dark_dataset/train and its subdirectories is: {file_count}\")"
   ]
  },
  {
   "cell_type": "markdown",
   "metadata": {},
   "source": [
    "### Run the script for removing the dark images from the dataset"
   ]
  },
  {
   "cell_type": "code",
   "execution_count": null,
   "metadata": {},
   "outputs": [],
   "source": [
    "%run 'scripts/remove_dark_images.py'"
   ]
  },
  {
   "cell_type": "code",
   "execution_count": null,
   "metadata": {},
   "outputs": [],
   "source": [
    "from scripts import create_train_dataset_from_images as ctd\n",
    "\n",
    "ctd.create_train_dataset_from_images('darkened_images', 'flowers_improved_dataset','train')\n",
    "ctd.create_train_dataset_from_images('flowers/test', 'flowers_improved_dataset','test')\n",
    "\n",
    "file_count_original_dark_images = 0\n",
    "for root, dirs, files in os.walk('flowers_improved_dataset/train'):\n",
    "    file_count_original_dark_images += len(files)\n",
    "\n",
    "print(f\"The total number of files in flowers_improved_dataset/train and its subdirectories is: {file_count_original_dark_images}\")"
   ]
  },
  {
   "cell_type": "markdown",
   "metadata": {},
   "source": [
    "## Setting up variables"
   ]
  },
  {
   "cell_type": "code",
   "execution_count": null,
   "metadata": {
    "tags": []
   },
   "outputs": [],
   "source": [
    "\n",
    "PIPELINE_NAME = 'flower_pipeline'\n",
    "PIPELINE_ROOT = os.path.join('pipelines', PIPELINE_NAME)\n",
    "ORIGINAL_DARK_TF_RECORD_ROOT = 'flowers_original_dark_dataset-tfrecord'\n",
    "IMPROVED_TF_RECORD_ROOT = 'flowers_improved_dataset-tfrecord'\n",
    "\n",
    "#data_root ='flowers'\n",
    "ORIGINAL_DARK_DATA_ROOT = 'flowers_original_dark_dataset'\n",
    "IMPROVED_DARK_DATA_ROOT = 'flowers_improved_dataset'\n",
    "\n",
    "\n",
    "SERVING_MODEL_DIR = os.path.join('serving_model', PIPELINE_NAME)\n",
    "METADATA_PATH = os.path.join('metadata', PIPELINE_NAME, 'flowers.db')\n",
    "\n",
    "\n",
    "#IMG_HEIGHT = 180\n",
    "#IMG_WIDTH = 180\n",
    "\n",
    "\n",
    "\n"
   ]
  },
  {
   "cell_type": "markdown",
   "metadata": {},
   "source": [
    "### Convert original dark images to tf.record files"
   ]
  },
  {
   "cell_type": "code",
   "execution_count": null,
   "metadata": {},
   "outputs": [],
   "source": [
    "from scripts import convert_img_to_tfrecord_script as citfs\n",
    "\n",
    "\n",
    "train_data_dir = os.path.join(ORIGINAL_DARK_DATA_ROOT, 'train')\n",
    "validation_dir = os.path.join(ORIGINAL_DARK_DATA_ROOT, 'test')\n",
    "\n",
    "os.makedirs(ORIGINAL_DARK_TF_RECORD_ROOT + '/train', exist_ok=True)\n",
    "os.makedirs(ORIGINAL_DARK_TF_RECORD_ROOT + '/test', exist_ok=True)\n",
    "\n",
    "train_tfrecord = ORIGINAL_DARK_TF_RECORD_ROOT + '/train/train_data.tfrecords'\n",
    "test_tfrecord = ORIGINAL_DARK_TF_RECORD_ROOT + '/test/test_data.tfrecords'\n",
    "\n",
    "\n",
    "citfs.open_and_write_TFRercord(train_data_dir, validation_dir, train_tfrecord, test_tfrecord)"
   ]
  },
  {
   "cell_type": "markdown",
   "metadata": {},
   "source": [
    "### Convert improved images to tf.record files"
   ]
  },
  {
   "cell_type": "code",
   "execution_count": null,
   "metadata": {},
   "outputs": [],
   "source": [
    "from scripts import convert_img_to_tfrecord_script as citfs\n",
    "\n",
    "\n",
    "train_data_dir = os.path.join(IMPROVED_DARK_DATA_ROOT, 'train')\n",
    "validation_dir = os.path.join(IMPROVED_DARK_DATA_ROOT, 'test')\n",
    "\n",
    "os.makedirs(IMPROVED_TF_RECORD_ROOT + '/train', exist_ok=True)\n",
    "os.makedirs(IMPROVED_TF_RECORD_ROOT + '/test', exist_ok=True)\n",
    "\n",
    "train_tfrecord = IMPROVED_TF_RECORD_ROOT + '/train/train_data.tfrecords'\n",
    "test_tfrecord = IMPROVED_TF_RECORD_ROOT + '/test/test_data.tfrecords'\n",
    "\n",
    "\n",
    "citfs.open_and_write_TFRercord(train_data_dir, validation_dir, train_tfrecord, test_tfrecord)"
   ]
  },
  {
   "cell_type": "markdown",
   "metadata": {},
   "source": [
    "### Checking if decoding tfrecord file works"
   ]
  },
  {
   "cell_type": "code",
   "execution_count": null,
   "metadata": {},
   "outputs": [],
   "source": [
    "import tensorflow as tf\n",
    "import matplotlib.pyplot as plt\n",
    "\n",
    "def _parse_function(example_proto):\n",
    "    feature_description = {\n",
    "        'label': tf.io.FixedLenFeature([], tf.int64),\n",
    "        'image_raw': tf.io.FixedLenFeature([], tf.string),\n",
    "    }\n",
    "    parsed_features = tf.io.parse_single_example(example_proto, feature_description)\n",
    "    return parsed_features\n",
    "\n",
    "def display_first_matching_by_label(tfrecord_file, label_number):\n",
    "    label_to_flower = {\n",
    "        0: 'daisy',\n",
    "        1: 'dandelion',\n",
    "        2: 'roses',\n",
    "        3: 'sunflowers',\n",
    "        4: 'tulips'\n",
    "    }\n",
    "    \n",
    "    raw_image_dataset = tf.data.TFRecordDataset(tfrecord_file)\n",
    "    image_dataset = raw_image_dataset.map(_parse_function)\n",
    "\n",
    "    for image_features in image_dataset:\n",
    "        label = image_features['label']\n",
    "        if label == label_number:\n",
    "            encoded_image = image_features['image_raw'].numpy()\n",
    "            decoded_image = tf.image.decode_jpeg(encoded_image, channels=3)\n",
    "            plt.imshow(decoded_image)\n",
    "            plt.title(f'Label: {label} {label_to_flower[label_number]}')\n",
    "            plt.show()\n",
    "            break\n",
    "\n",
    "# Display the first image with the specified label (0 to 4) from the train TFRecord file\n",
    "display_first_matching_by_label(train_tfrecord, 2)\n"
   ]
  },
  {
   "cell_type": "markdown",
   "metadata": {},
   "source": [
    "### Model code"
   ]
  },
  {
   "cell_type": "code",
   "execution_count": null,
   "metadata": {},
   "outputs": [],
   "source": [
    "_trainer_module_file = 'flower_trainer.py'"
   ]
  },
  {
   "cell_type": "code",
   "execution_count": null,
   "metadata": {},
   "outputs": [],
   "source": [
    "%%writefile {_trainer_module_file}\n",
    "\n",
    "import tensorflow as tf\n",
    "from tfx import v1 as tfx\n",
    "import matplotlib.pyplot as plt\n",
    "import tensorflow_transform as tft\n",
    "from tfx_bsl.tfxio import dataset_options\n",
    "import os\n",
    "import gzip\n",
    "from typing import List\n",
    "from tensorflow_metadata.proto.v0 import schema_pb2\n",
    "from tfx import v1 as tfx\n",
    "from tfx_bsl.public import tfxio\n",
    "from tensorflow_transform.tf_metadata import schema_utils\n",
    "\n",
    "_IMAGE_KEY = 'image_raw'\n",
    "_LABEL_KEY = 'label'\n",
    "IMG_HEIGHT = 180\n",
    "IMG_WIDTH = 180\n",
    "batch_size = 6\n",
    "\n",
    "# TODO: Change this to what the actual train/test dir amount is, can be found with a print somewhere above\n",
    "#_TRAIN_DATA_SIZE = 2934\n",
    "_TRAIN_DATA_SIZE = 2203\n",
    "_TEST_DATA_SIZE = 736\n",
    "\n",
    "\n",
    "def _transformed_name(key):\n",
    "  return key + '_xf'\n",
    "\n",
    "# TFX Transform will call this function.\n",
    "def preprocessing_fn(inputs):\n",
    "  \"\"\"tf.transform's callback function for preprocessing inputs.\n",
    "  Args:\n",
    "    inputs: map from feature keys to raw not-yet-transformed features.\n",
    "  Returns:\n",
    "    Map from string feature key to transformed feature operations.\n",
    "  \"\"\"\n",
    "  outputs = {}\n",
    "  print(\"Transformer preprocessing is running....\")\n",
    "  image_features = tf.map_fn(\n",
    "      lambda x: tf.io.decode_jpeg(x[0], channels=3),\n",
    "      inputs[_IMAGE_KEY],\n",
    "      dtype=tf.uint8)\n",
    "  \n",
    "  image_features = tf.image.resize(image_features, [IMG_HEIGHT, IMG_WIDTH])\n",
    "  image_features = tf.cast(image_features, tf.float32)\n",
    "  # Normalize the image features\n",
    "  # image_features = image_features / 255.0\n",
    "\n",
    "  image_features = tf.keras.applications.mobilenet.preprocess_input(\n",
    "     image_features)\n",
    "  outputs[_transformed_name(_IMAGE_KEY)] = image_features\n",
    "  outputs[_transformed_name(_LABEL_KEY)] = inputs[_LABEL_KEY]\n",
    "  \n",
    "  return outputs\n",
    "\n",
    "\n",
    "# Define a function to parse the tfrecord dataset\n",
    "def _parse_function(features, label):\n",
    "   image = features[_transformed_name(_IMAGE_KEY)]\n",
    "   return image, label\n",
    "\n",
    "def _get_serve_image_fn(model):\n",
    "  \"\"\"Returns a function that feeds the input tensor into the model.\"\"\"\n",
    "  print(\"_get_serve_image_fn is running...\\n\\n\\n\")\n",
    "  @tf.function\n",
    "  def serve_image_fn(image_tensor):\n",
    "      \n",
    "    print(\"serve_image_fn is running...\\n\\n\\n\")\n",
    "    \"\"\"Returns the output to be used in the serving signature.\n",
    "    Args:\n",
    "      image_tensor: A tensor represeting input image. The image should have 3\n",
    "        channels.\n",
    "    Returns:\n",
    "      The model's predicton on input image tensor\n",
    "    \"\"\"\n",
    "    return model(image_tensor)\n",
    "\n",
    "  return serve_image_fn\n",
    "\n",
    "def _input_fn(file_pattern: List[str],\n",
    "              data_accessor: tfx.components.DataAccessor,\n",
    "              tf_transform_output: tft.TFTransformOutput,\n",
    "              batch_size: int = 12) -> tf.data.Dataset:\n",
    "  \"\"\"Generates features and label for training.\n",
    "\n",
    "  Args:\n",
    "    file_pattern: List of paths or patterns of input tfrecord files.\n",
    "    data_accessor: DataAccessor for converting input to RecordBatch.\n",
    "    schema: schema of the input data.\n",
    "    batch_size: representing the number of consecutive elements of returned\n",
    "      dataset to combine in a single batch\n",
    "\n",
    "  Returns:\n",
    "    A dataset that contains (features, indices) tuple where features is a\n",
    "      dictionary of Tensors, and indices is a single Tensor of label indices.\n",
    "  \"\"\"  \n",
    "  dataset = data_accessor.tf_dataset_factory(\n",
    "      file_pattern,\n",
    "      dataset_options.TensorFlowDatasetOptions(\n",
    "          batch_size=batch_size, label_key=_transformed_name(_LABEL_KEY)),\n",
    "      tf_transform_output.transformed_metadata.schema)\n",
    "  \n",
    "  return dataset\n",
    "\n",
    "# TFX Trainer will call this function.\n",
    "def run_fn(fn_args: tfx.components.FnArgs):\n",
    "    \n",
    "    print(\"\\n\\n\\n Trainer component is running ... \\n\\n\\n\")\n",
    "\n",
    "    epochs = 4\n",
    "    # attempt at making a different model architecture that should be smaller than the original\n",
    "    \n",
    "    \"\"\"\n",
    "    OLD MODEL\n",
    "    model = tf.keras.Sequential([\n",
    "      #tf.keras.layers.Rescaling(1./255),\n",
    "      tf.keras.layers.Conv2D(32, 3, padding='same', activation='relu', input_shape=(IMG_HEIGHT, IMG_WIDTH, 3)),\n",
    "\n",
    "      tf.keras.layers.Conv2D(32, 3, activation='relu'),\n",
    "      tf.keras.layers.MaxPooling2D(),\n",
    "      tf.keras.layers.Conv2D(32, 3, activation='relu'),\n",
    "      tf.keras.layers.MaxPooling2D(),\n",
    "      tf.keras.layers.Conv2D(32, 3, activation='relu'),\n",
    "      tf.keras.layers.MaxPooling2D(),\n",
    "      tf.keras.layers.Flatten(),\n",
    "      tf.keras.layers.Dense(128, activation='relu'),\n",
    "      tf.keras.layers.Dropout(0.5),\n",
    "      tf.keras.layers.Dense(1, activation='sigmoid'),\n",
    "      tf.keras.layers.Dense(5) # 5 for num of classes of flowers\n",
    "    ])\n",
    "    \"\"\"\n",
    "    model = tf.keras.Sequential([\n",
    "      tf.keras.layers.Rescaling(1./255, input_shape=(IMG_HEIGHT, IMG_WIDTH, 3), name=_transformed_name(_IMAGE_KEY)),\n",
    "      tf.keras.layers.Conv2D(16, 3, padding='same', activation='relu'),\n",
    "      tf.keras.layers.MaxPooling2D(),\n",
    "      tf.keras.layers.Conv2D(32, 3, padding='same', activation='relu'),\n",
    "      tf.keras.layers.MaxPooling2D(),\n",
    "      tf.keras.layers.Conv2D(64, 3, padding='same', activation='relu'),\n",
    "      tf.keras.layers.MaxPooling2D(),\n",
    "      tf.keras.layers.Flatten(),\n",
    "      tf.keras.layers.Dense(128, activation='relu'),\n",
    "      tf.keras.layers.Dense(5) # 5 for num of classes of flowers\n",
    "    ])\n",
    "\n",
    " \n",
    "    # Compile the model\n",
    "    # OLD CODE\n",
    "    #model.compile(optimizer='adam',\n",
    "    #          loss=tf.keras.losses.BinaryCrossentropy(),\n",
    "    #          metrics=['accuracy'])\n",
    "    # NEW CODE\n",
    "    model.compile(optimizer='adam',\n",
    "              loss=tf.keras.losses.SparseCategoricalCrossentropy(from_logits=True),\n",
    "              metrics=['accuracy'])\n",
    "\n",
    "    # Print a summary of the model\n",
    "    model.summary()\n",
    "\n",
    "    tf_transform_output = tft.TFTransformOutput(fn_args.transform_output)\n",
    " \n",
    "    train_ds = _input_fn(\n",
    "      fn_args.train_files,\n",
    "      fn_args.data_accessor,\n",
    "      tf_transform_output,\n",
    "      batch_size=batch_size)\n",
    "    \n",
    "    train_ds = train_ds.map(_parse_function)\n",
    "\n",
    "    eval_ds = _input_fn(\n",
    "      fn_args.eval_files,\n",
    "      fn_args.data_accessor,\n",
    "      tf_transform_output,\n",
    "      batch_size=batch_size)\n",
    "    \n",
    "    eval_ds = eval_ds.map(_parse_function)\n",
    "\n",
    "    steps_per_epoch = int(_TRAIN_DATA_SIZE / batch_size)\n",
    "    validation_steps = int(_TEST_DATA_SIZE / batch_size)\n",
    "\n",
    "    # Train our model\n",
    "    history = model.fit(train_ds,\n",
    "                        epochs=epochs,\n",
    "                        validation_data=eval_ds, \n",
    "                        steps_per_epoch=steps_per_epoch, \n",
    "                        validation_steps=validation_steps)\n",
    "\n",
    "    acc = history.history['accuracy']\n",
    "    val_acc = history.history['val_accuracy']\n",
    "\n",
    "    loss = history.history['loss']\n",
    "    val_loss = history.history['val_loss']\n",
    "\n",
    "    epochs_range = range(epochs)\n",
    "\n",
    "    plt.figure(figsize=(8, 8))\n",
    "    plt.subplot(1, 2, 1)\n",
    "    plt.plot(epochs_range, acc, label='Training Accuracy')\n",
    "    plt.plot(epochs_range, val_acc, label='Validation Accuracy')\n",
    "    plt.legend(loc='lower right')\n",
    "    plt.title('Training and Validation Accuracy')\n",
    "\n",
    "    plt.subplot(1, 2, 2)\n",
    "    plt.plot(epochs_range, loss, label='Training Loss')\n",
    "    plt.plot(epochs_range, val_loss, label='Validation Loss')\n",
    "    plt.legend(loc='upper right')\n",
    "    plt.title('Training and Validation Loss')\n",
    "    plt.show()\n",
    "\n",
    "\n",
    "    # Prepare the TFLite model used for serving in MLKit\n",
    "    signatures = {\n",
    "        'serving_default':\n",
    "            _get_serve_image_fn(model).get_concrete_function(\n",
    "                tf.TensorSpec(\n",
    "                    shape=[None, IMG_HEIGHT, IMG_WIDTH, 3],\n",
    "                    dtype=tf.float32,\n",
    "                    name=_transformed_name(_IMAGE_KEY)))\n",
    "    }\n",
    "    print(signatures)\n",
    "    # The result of the training should be saved in `fn_args.serving_model_dir`\n",
    "    # directory.\n",
    "    model.save(fn_args.serving_model_dir, save_format='tf')"
   ]
  },
  {
   "cell_type": "markdown",
   "metadata": {},
   "source": [
    "### Pipeline definition"
   ]
  },
  {
   "cell_type": "code",
   "execution_count": null,
   "metadata": {},
   "outputs": [],
   "source": [
    "\n",
    "### This pipeline hard codes the dataset path inside the pipeline instead of as a input when running orchestrator\n",
    "import tensorflow_model_analysis as tfma\n",
    "\n",
    "from tfx.proto import example_gen_pb2\n",
    "from tfx.components import ImportExampleGen, Evaluator\n",
    "from tfx import v1 as tfx\n",
    "from tfx.dsl.components.common import resolver\n",
    "from tfx.dsl.experimental import latest_blessed_model_resolver\n",
    "from tfx.types import Channel\n",
    "from tfx.types.standard_artifacts import Model, ModelBlessing\n",
    "from tfx.proto import example_gen_pb2\n",
    "from tfx.types.standard_artifacts import Model\n",
    "\n",
    "import tensorflow_model_analysis as tfma\n",
    "\n",
    "from tfx.dsl.input_resolution.strategies.latest_blessed_model_strategy import LatestBlessedModelStrategy\n",
    "\n",
    "def _create_pipeline(pipeline_name: str, pipeline_root: str, \n",
    "                     tf_record_path: str, module_file: str, \n",
    "                     serving_model_dir: str, \n",
    "                     metadata_path: str,   accuracy_threshold: float = 0.15) -> tfx.dsl.Pipeline:\n",
    "  print(\"Pipeline creation is running...\\n\\n\\n\")\n",
    " \n",
    "  input_config = example_gen_pb2.Input(splits=[\n",
    "      example_gen_pb2.Input.Split(name='train', pattern='train/*'),\n",
    "      example_gen_pb2.Input.Split(name='eval', pattern='test/*')\n",
    "  ])\n",
    "#TODO: Move hardcoded input base into an external variable and send it into the pipeline\n",
    "  # Brings data into the pipeline.\n",
    "  example_gen = ImportExampleGen(\n",
    "      input_base=tf_record_path, input_config=input_config)\n",
    "\n",
    "  # Computes statistics over data for visualization and schema generation.\n",
    "  statistics_gen = tfx.components.StatisticsGen(\n",
    "      examples=example_gen.outputs['examples'])\n",
    "  \n",
    "  # Generates schema based on the generated statistics.\n",
    "  schema_gen = tfx.components.SchemaGen(\n",
    "      statistics=statistics_gen.outputs['statistics'], infer_feature_shape=True)\n",
    "\n",
    "  #Performs anomaly detection based on statistics and data schema.\n",
    "  example_validator = tfx.components.ExampleValidator(\n",
    "      statistics=statistics_gen.outputs['statistics'],\n",
    "      schema = schema_gen.outputs['schema']\n",
    "  )\n",
    "\n",
    "  # Performs transformations and feature engineering in training and serving.\n",
    "  transform = tfx.components.Transform(\n",
    "      examples=example_gen.outputs['examples'],\n",
    "      schema=schema_gen.outputs['schema'],\n",
    "      module_file=module_file)\n",
    "\n",
    "  # Uses user-provided Python function that trains a model.\n",
    "  trainer = tfx.components.Trainer(\n",
    "      module_file=module_file,\n",
    "      examples=transform.outputs['transformed_examples'],\n",
    "      transform_graph=transform.outputs['transform_graph'],\n",
    "      schema= schema_gen.outputs['schema'],\n",
    "      )\n",
    "  \n",
    "  \n",
    "  # Get the latest blessed model for model validation.\n",
    "  model_resolver = resolver.Resolver(\n",
    "      #strategy_class=latest_blessed_model_resolver.LatestBlessedModelResolver,\n",
    "      strategy_class=LatestBlessedModelStrategy,\n",
    "      model=Channel(type=Model),\n",
    "      model_blessing=Channel(\n",
    "          type=ModelBlessing)).with_id('latest_blessed_model_resolver')\n",
    "  \n",
    "  \n",
    "  # Uses TFMA to compute evaluation statistics over features of a model and\n",
    "  # perform quality validation of a candidate model (compare to a baseline).\n",
    "  eval_config = tfma.EvalConfig(\n",
    "      model_specs=[tfma.ModelSpec(label_key='label_xf')],\n",
    "      slicing_specs=[tfma.SlicingSpec()],\n",
    "      metrics_specs=[\n",
    "          tfma.MetricsSpec(metrics=[\n",
    "              tfma.MetricConfig(\n",
    "                  class_name='SparseCategoricalAccuracy',\n",
    "                  threshold=tfma.MetricThreshold(\n",
    "                      value_threshold=tfma.GenericValueThreshold(\n",
    "                          lower_bound={'value': accuracy_threshold}),\n",
    "                      # Change threshold will be ignored if there is no\n",
    "                      # baseline model resolved from MLMD (first run).\n",
    "                      change_threshold=tfma.GenericChangeThreshold(\n",
    "                          direction=tfma.MetricDirection.HIGHER_IS_BETTER,\n",
    "                          absolute={'value': -1e-3})))\n",
    "          ])\n",
    "      ])\n",
    "\n",
    "  # Uses TFMA to compute the evaluation statistics over features of a model.\n",
    "  # We evaluate using the materialized examples that are output by Transform\n",
    "  # because\n",
    "  # 1. the decoding_jpeg function currently performed within Transform are not\n",
    "  # compatible with TFLite.\n",
    "  # 2. MLKit requires deserialized (float32) tensor image inputs\n",
    "  # Note that for deployment, the same logic that is performed within Transform\n",
    "  # must be reproduced client-side.\n",
    "  evaluator = Evaluator(\n",
    "      examples=transform.outputs['transformed_examples'],\n",
    "      model=trainer.outputs['model'],\n",
    "      baseline_model=model_resolver.outputs['model'],\n",
    "      eval_config=eval_config)\n",
    "  \n",
    "  # Pushes the model to a filesystem destination.\n",
    "  pusher = tfx.components.Pusher(\n",
    "      model=trainer.outputs['model'],\n",
    "      model_blessing=evaluator.outputs['blessing'], # Pass an evaluation result.\n",
    "      push_destination=tfx.proto.PushDestination(\n",
    "          filesystem=tfx.proto.PushDestination.Filesystem(\n",
    "              base_directory=serving_model_dir)))\n",
    "  \n",
    "  # Following three components will be included in the pipeline.\n",
    "  components = [\n",
    "      example_gen,\n",
    "      statistics_gen,\n",
    "      schema_gen,\n",
    "      example_validator,\n",
    "      transform,\n",
    "      trainer,\n",
    "      model_resolver,\n",
    "      evaluator,\n",
    "      pusher,\n",
    "  ]\n",
    "\n",
    "  return tfx.dsl.Pipeline(\n",
    "      pipeline_name=pipeline_name,\n",
    "      pipeline_root=pipeline_root,\n",
    "      metadata_connection_config=tfx.orchestration.metadata\n",
    "      .sqlite_metadata_connection_config(metadata_path),\n",
    "      components=components)"
   ]
  },
  {
   "cell_type": "markdown",
   "metadata": {},
   "source": [
    "### Run Pipeline First Attempt With Dark Images"
   ]
  },
  {
   "cell_type": "code",
   "execution_count": null,
   "metadata": {},
   "outputs": [],
   "source": [
    "tfx.orchestration.LocalDagRunner().run(\n",
    "  _create_pipeline(\n",
    "      pipeline_name=PIPELINE_NAME,\n",
    "      pipeline_root=PIPELINE_ROOT,\n",
    "      tf_record_path=ORIGINAL_DARK_TF_RECORD_ROOT,\n",
    "      module_file=_trainer_module_file,\n",
    "      serving_model_dir=SERVING_MODEL_DIR,\n",
    "      metadata_path=METADATA_PATH))"
   ]
  },
  {
   "cell_type": "markdown",
   "metadata": {},
   "source": [
    "### Run Pipeline First Attempt WITHOUT Dark Images"
   ]
  },
  {
   "cell_type": "code",
   "execution_count": null,
   "metadata": {},
   "outputs": [],
   "source": [
    "tfx.orchestration.LocalDagRunner().run(\n",
    "  _create_pipeline(\n",
    "      pipeline_name=PIPELINE_NAME,\n",
    "      pipeline_root=PIPELINE_ROOT,\n",
    "      tf_record_path=IMPROVED_TF_RECORD_ROOT,\n",
    "      module_file=_trainer_module_file,\n",
    "      serving_model_dir=SERVING_MODEL_DIR,\n",
    "      metadata_path=METADATA_PATH))"
   ]
  },
  {
   "cell_type": "markdown",
   "metadata": {},
   "source": [
    "### Getting Evaluator component and visualizing statistics"
   ]
  },
  {
   "cell_type": "markdown",
   "metadata": {},
   "source": [
    "### Result querying"
   ]
  },
  {
   "cell_type": "code",
   "execution_count": null,
   "metadata": {},
   "outputs": [],
   "source": [
    "# List files in created model directory.\n",
    "!find {SERVING_MODEL_DIR}"
   ]
  }
 ],
 "metadata": {
  "kernelspec": {
   "display_name": "Python 3 (ipykernel)",
   "language": "python",
   "name": "python3"
  },
  "language_info": {
   "codemirror_mode": {
    "name": "ipython",
    "version": 3
   },
   "file_extension": ".py",
   "mimetype": "text/x-python",
   "name": "python",
   "nbconvert_exporter": "python",
   "pygments_lexer": "ipython3",
   "version": "3.7.16"
  }
 },
 "nbformat": 4,
 "nbformat_minor": 4
}
