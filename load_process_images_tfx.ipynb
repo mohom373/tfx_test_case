{
 "cells": [
  {
   "cell_type": "code",
   "execution_count": null,
   "metadata": {},
   "outputs": [],
   "source": [
    "!pip install --user tfx tensorflow Pillow tensorflow_datasets matplotlib azure-storage-blob object-detection"
   ]
  },
  {
   "cell_type": "code",
   "execution_count": null,
   "metadata": {},
   "outputs": [],
   "source": [
    "import numpy as np\n",
    "import os\n",
    "import PIL\n",
    "import PIL.Image\n",
    "import tensorflow as tf\n",
    "import tensorflow_datasets as tfds\n",
    "import IPython.display as display\n",
    "from azure.storage.blob import BlobServiceClient, AccountSasPermissions, ResourceTypes\n",
    "from datetime import datetime, timedelta"
   ]
  },
  {
   "cell_type": "code",
   "execution_count": null,
   "metadata": {},
   "outputs": [],
   "source": [
    "# The following functions can be used to convert a value to a type compatible\n",
    "# with tf.train.Example.\n",
    "\n",
    "def _bytes_feature(value):\n",
    "  \"\"\"Returns a bytes_list from a string / byte.\"\"\"\n",
    "  if isinstance(value, type(tf.constant(0))):\n",
    "    value = value.numpy() # BytesList won't unpack a string from an EagerTensor.\n",
    "  return tf.train.Feature(bytes_list=tf.train.BytesList(value=[value]))\n",
    "\n",
    "def _float_feature(value):\n",
    "  \"\"\"Returns a float_list from a float / double.\"\"\"\n",
    "  return tf.train.Feature(float_list=tf.train.FloatList(value=[value]))\n",
    "\n",
    "def _int64_feature(value):\n",
    "  \"\"\"Returns an int64_list from a bool / enum / int / uint.\"\"\"\n",
    "  return tf.train.Feature(int64_list=tf.train.Int64List(value=[value]))\n"
   ]
  },
  {
   "attachments": {},
   "cell_type": "markdown",
   "metadata": {},
   "source": [
    "### Downloading images from Azure"
   ]
  },
  {
   "cell_type": "code",
   "execution_count": null,
   "metadata": {},
   "outputs": [],
   "source": [
    "connection_string = \"DefaultEndpointsProtocol=https;AccountName=datacentricthesis;AccountKey=Z2yIApz/GjhHPu28cAclxOnaqChRERQlrmGkfqfDcpCLlBRo/oPBN8n3Mhg6cRVFR5b/iS0ZxZ/D+ASt378Qfw==;EndpointSuffix=core.windows.net\"\n",
    "account_name = \"datacentricthesis\""
   ]
  },
  {
   "cell_type": "code",
   "execution_count": null,
   "metadata": {},
   "outputs": [],
   "source": [
    "def download_directory_from_blob_storage(blob_service_client, container_name, destination_directory, prefix=\"\"):\n",
    "  container_client = blob_service_client.get_container_client(container_name)\n",
    "  blob_list = container_client.list_blobs(name_starts_with=prefix)\n",
    "  \n",
    "  for blob in blob_list:\n",
    "    blob_path = os.path.relpath(blob.name, prefix)\n",
    "    local_path = os.path.join(destination_directory, blob_path)\n",
    "\n",
    "    os.makedirs(os.path.dirname(local_path), exist_ok=True)\n",
    "\n",
    "    blob_client = container_client.get_blob_client(blob.name)\n",
    "    with open(local_path, \"wb\") as file:\n",
    "        file.write(blob_client.download_blob().readall())"
   ]
  },
  {
   "cell_type": "code",
   "execution_count": null,
   "metadata": {},
   "outputs": [],
   "source": [
    "blob_service_client = BlobServiceClient.from_connection_string(connection_string)\n",
    "container_name = \"flowers\"\n",
    "destination_directory = \"./azure_blob_storage_test\"\n",
    "prefix = \"flower_photos/\"\n",
    "\n",
    "if not (os.path.exists(destination_directory)):\n",
    "  print(\"Only create and download if destination doesn't extist so we don't override it \\n\")\n",
    "  \n",
    "  download_directory_from_blob_storage(blob_service_client, container_name, destination_directory, prefix)"
   ]
  },
  {
   "attachments": {},
   "cell_type": "markdown",
   "metadata": {},
   "source": [
    "### Parse images into byte strings\n"
   ]
  },
  {
   "cell_type": "code",
   "execution_count": null,
   "metadata": {},
   "outputs": [],
   "source": [
    "def create_tf_example(image_path, label_map, label):\n",
    "    img = PIL.Image.open(image_path)\n",
    "    width, height = img.size\n",
    "    img_format = img.format.lower()\n",
    "    filename = os.path.basename(image_path)\n",
    "\n",
    "    with tf.io.gfile.GFile(image_path, 'rb') as fid:\n",
    "        encoded_image = fid.read()\n",
    "\n",
    "    tf_example = tf.train.Example(features=tf.train.Features(feature={\n",
    "        'image/height': _int64_feature(height),\n",
    "        'image/width': _int64_feature(width),\n",
    "        'image/filename': _bytes_feature(filename.encode('utf8')),\n",
    "        'image/source_id': _bytes_feature(filename.encode('utf8')),\n",
    "        'image/encoded': _bytes_feature(encoded_image),\n",
    "        'image/format': _bytes_feature(img_format.encode('utf8')),\n",
    "        'image/class/text': _bytes_feature(label.encode('utf8')),\n",
    "        'image/class/label': _int64_feature(label_map[label]),\n",
    "    }))\n",
    "    return tf_example"
   ]
  },
  {
   "attachments": {},
   "cell_type": "markdown",
   "metadata": {},
   "source": [
    "## Formats images and creates a tfrecord file"
   ]
  },
  {
   "cell_type": "code",
   "execution_count": null,
   "metadata": {},
   "outputs": [],
   "source": [
    "def format_images():\n",
    "  \n",
    "  label_map = {\n",
    "    'daisy': 1,\n",
    "    'dandelion': 2,\n",
    "    'roses': 3,\n",
    "    'sunflowers': 4,\n",
    "    'tulips': 5\n",
    "  }  \n",
    "\n",
    "  image_root = os.path.join(os.getcwd(), 'azure_blob_storage_test')\n",
    "  if not os.path.exists('data'):\n",
    "    os.mkdir('data')\n",
    "  output_path = 'data/flower_images.tfrecord'\n",
    "\n",
    "  flower_classes = ['daisy', 'dandelion', 'roses', 'sunflowers', 'tulips']\n",
    "\n",
    "  with tf.io.TFRecordWriter(output_path) as writer:\n",
    "      for flower_class in flower_classes:\n",
    "          flower_dir = os.path.join(image_root, flower_class)\n",
    "          for image_name in os.listdir(flower_dir):\n",
    "              image_path = os.path.join(flower_dir, image_name)\n",
    "              tf_example = create_tf_example(image_path, label_map, flower_class)\n",
    "              writer.write(tf_example.SerializeToString())\n",
    "\n",
    "  print(f\"TFRecord file created at {output_path}\")  \n",
    "  \n",
    "format_images()"
   ]
  },
  {
   "attachments": {},
   "cell_type": "markdown",
   "metadata": {},
   "source": [
    "### Convert tfrecord back to images"
   ]
  },
  {
   "cell_type": "code",
   "execution_count": null,
   "metadata": {},
   "outputs": [],
   "source": [
    "raw_image_dataset = tf.data.TFRecordDataset('flower_images.tfrecords')\n",
    "\n",
    "# Create a dictionary describing the features.\n",
    "def _parse_function(example_proto):\n",
    "    feature_description = {\n",
    "        'image/height': tf.io.FixedLenFeature([], tf.int64),\n",
    "        'image/width': tf.io.FixedLenFeature([], tf.int64),\n",
    "        'image/filename': tf.io.FixedLenFeature([], tf.string),\n",
    "        'image/source_id': tf.io.FixedLenFeature([], tf.string),\n",
    "        'image/encoded': tf.io.FixedLenFeature([], tf.string),\n",
    "        'image/format': tf.io.FixedLenFeature([], tf.string),\n",
    "        'image/class/text': tf.io.FixedLenFeature([], tf.string),\n",
    "        'image/class/label': tf.io.FixedLenFeature([], tf.int64),\n",
    "    }\n",
    "    parsed_features = tf.io.parse_single_example(example_proto, feature_description)\n",
    "    return parsed_features\n",
    "\n",
    "def display_first_matching_by_flower(tfrecord_file, flower_type):\n",
    "    raw_image_dataset = tf.data.TFRecordDataset(tfrecord_file)\n",
    "    image_dataset = raw_image_dataset.map(_parse_function)\n",
    "\n",
    "    for image_features in image_dataset:\n",
    "        label = image_features['image/class/text'].numpy().decode('utf-8')\n",
    "        if label == flower_type:\n",
    "            encoded_image = image_features['image/encoded'].numpy()\n",
    "            display.display(display.Image(data=encoded_image))\n",
    "            break\n",
    "        \n",
    "def display_first_matching_by_label(tfrecord_file, label_number):\n",
    "    raw_image_dataset = tf.data.TFRecordDataset(tfrecord_file)\n",
    "    image_dataset = raw_image_dataset.map(_parse_function)\n",
    "\n",
    "    for image_features in image_dataset:\n",
    "        label = image_features['image/class/label']\n",
    "        if label == label_number:\n",
    "            encoded_image = image_features['image/encoded'].numpy()\n",
    "            display.display(display.Image(data=encoded_image))\n",
    "            break\n",
    "\n",
    "tfrecord_file = 'data/flower_images.tfrecord'\n",
    "display_first_matching_by_flower(tfrecord_file, 'sunflowers')\n",
    "display_first_matching_by_label(tfrecord_file, 4)"
   ]
  },
  {
   "attachments": {},
   "cell_type": "markdown",
   "metadata": {},
   "source": [
    "### Reading record file into tfx examplegen component, creates separate python script\n"
   ]
  },
  {
   "cell_type": "code",
   "execution_count": 87,
   "metadata": {},
   "outputs": [],
   "source": [
    "\n",
    "import os\n",
    "from tfx.v1.orchestration import metadata\n",
    "from tfx.proto import example_gen_pb2\n",
    "from tfx.v1.dsl import Pipeline \n",
    "from tfx.v1.components import ImportExampleGen\n",
    "from tfx.v1.components import StatisticsGen\n",
    "\n",
    "def _create_pipeline(pipeline_name, pipeline_root, data_root, metadata_path):\n",
    "\n",
    "  # Create the ImportExampleGen component\n",
    "  output_config = example_gen_pb2.Output(\n",
    "      split_config=example_gen_pb2.SplitConfig(splits=[\n",
    "          example_gen_pb2.SplitConfig.Split(name='train', hash_buckets=6),\n",
    "          example_gen_pb2.SplitConfig.Split(name='eval', hash_buckets=2),\n",
    "          example_gen_pb2.SplitConfig.Split(name='test', hash_buckets=2)\n",
    "      ]))\n",
    "\n",
    "  example_gen = ImportExampleGen(input_base=data_root, output_config=output_config)\n",
    "\n",
    "  # Create the StatisticsGen component\n",
    "  statistics_gen = StatisticsGen(examples=example_gen.outputs['examples'])\n",
    "\n",
    "  components = [\n",
    "      example_gen,\n",
    "      statistics_gen,\n",
    "  ]\n",
    "\n",
    "  return Pipeline(\n",
    "    pipeline_name=pipeline_name,\n",
    "    pipeline_root=pipeline_root,\n",
    "    metadata_connection_config=metadata.sqlite_metadata_connection_config(metadata_path),\n",
    "    components=components)\n",
    "\n"
   ]
  },
  {
   "cell_type": "code",
   "execution_count": 88,
   "metadata": {},
   "outputs": [],
   "source": [
    "PIPELINE_NAME = 'flower_pipeline'\n",
    "TFX_ROOT = os.path.join(os.getcwd(), 'tfx')\n",
    "PIPELINE_ROOT = os.path.join(TFX_ROOT, 'pipelines', PIPELINE_NAME)\n",
    "METADATA_PATH = os.path.join(TFX_ROOT, 'metadata', 'metadata.db')\n",
    "DATA_ROOT = 'data'"
   ]
  },
  {
   "cell_type": "code",
   "execution_count": 89,
   "metadata": {},
   "outputs": [
    {
     "name": "stderr",
     "output_type": "stream",
     "text": [
      "WARNING:apache_beam.io.tfrecordio:Couldn't find python-snappy so the implementation of _TFRecordUtil._masked_crc32c is not as fast as it could be.\n",
      "WARNING:absl:ArtifactQuery.property_predicate is not supported.\n"
     ]
    }
   ],
   "source": [
    "from tfx.v1.orchestration import LocalDagRunner\n",
    "LocalDagRunner().run(\n",
    "  _create_pipeline(\n",
    "      pipeline_name=PIPELINE_NAME,\n",
    "      pipeline_root=PIPELINE_ROOT,\n",
    "      data_root=DATA_ROOT,\n",
    "      #module_file=_trainer_module_file,\n",
    "      #serving_model_dir=SERVING_MODEL_DIR,\n",
    "      metadata_path=METADATA_PATH))"
   ]
  },
  {
   "cell_type": "code",
   "execution_count": null,
   "metadata": {},
   "outputs": [],
   "source": [
    "num_classes = 5\n",
    "\n",
    "model = tf.keras.Sequential([\n",
    "  tf.keras.layers.Rescaling(1./255),\n",
    "  tf.keras.layers.Conv2D(32, 3, activation='relu'),\n",
    "  tf.keras.layers.MaxPooling2D(),\n",
    "  tf.keras.layers.Conv2D(32, 3, activation='relu'),\n",
    "  tf.keras.layers.MaxPooling2D(),\n",
    "  tf.keras.layers.Conv2D(32, 3, activation='relu'),\n",
    "  tf.keras.layers.MaxPooling2D(),\n",
    "  tf.keras.layers.Flatten(),\n",
    "  tf.keras.layers.Dense(128, activation='relu'),\n",
    "  tf.keras.layers.Dense(num_classes)\n",
    "])"
   ]
  }
 ],
 "metadata": {
  "kernelspec": {
   "display_name": "Python 3",
   "language": "python",
   "name": "python3"
  },
  "language_info": {
   "codemirror_mode": {
    "name": "ipython",
    "version": 3
   },
   "file_extension": ".py",
   "mimetype": "text/x-python",
   "name": "python",
   "nbconvert_exporter": "python",
   "pygments_lexer": "ipython3",
   "version": "3.7.16"
  },
  "orig_nbformat": 4
 },
 "nbformat": 4,
 "nbformat_minor": 2
}
